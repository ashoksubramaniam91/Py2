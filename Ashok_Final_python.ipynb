{
 "cells": [
  {
   "cell_type": "markdown",
   "metadata": {},
   "source": [
    "# 1. Write a code to concatenate firstname and lastname and display the output, where both are of string datatype?"
   ]
  },
  {
   "cell_type": "code",
   "execution_count": 1,
   "metadata": {},
   "outputs": [
    {
     "name": "stdout",
     "output_type": "stream",
     "text": [
      "AshokSubramaniam <class 'str'>\n"
     ]
    }
   ],
   "source": [
    "str1='Ashok'\n",
    "str2='Subramaniam'\n",
    "str3=str1+str2\n",
    "print(str3,type(str3))"
   ]
  },
  {
   "cell_type": "markdown",
   "metadata": {},
   "source": [
    "# 2. Write a code to replace ‘hai’ to ‘hello’ in the given list.\n",
    "lis=(“hai”,”world”,43,56)"
   ]
  },
  {
   "cell_type": "code",
   "execution_count": 2,
   "metadata": {},
   "outputs": [
    {
     "name": "stdout",
     "output_type": "stream",
     "text": [
      "['hello', 'world', 43, 56]\n"
     ]
    }
   ],
   "source": [
    "lis=['hai','world',43,56]\n",
    "lis[0]='hello'\n",
    "print(lis)"
   ]
  },
  {
   "cell_type": "markdown",
   "metadata": {},
   "source": [
    "# 3. Write a code to add “alpha”:26 to the existing dictionary."
   ]
  },
  {
   "cell_type": "code",
   "execution_count": 3,
   "metadata": {},
   "outputs": [
    {
     "name": "stdout",
     "output_type": "stream",
     "text": [
      "{'Eddy': 13, 'Maria': 44, 'Jas': 21, 'alpha': 26}\n"
     ]
    }
   ],
   "source": [
    "dic={'Eddy':13,'Maria':44,'Jas':21}\n",
    "dic['alpha']=26\n",
    "print(dic)"
   ]
  },
  {
   "cell_type": "markdown",
   "metadata": {},
   "source": [
    "# 4. Write a code to print only the even numbers till 11."
   ]
  },
  {
   "cell_type": "code",
   "execution_count": 4,
   "metadata": {},
   "outputs": [
    {
     "name": "stdout",
     "output_type": "stream",
     "text": [
      "2\n",
      "4\n",
      "6\n",
      "8\n",
      "10\n"
     ]
    }
   ],
   "source": [
    "for i in range(1,11):\n",
    "    if i%2==0:\n",
    "        print(i)"
   ]
  },
  {
   "cell_type": "markdown",
   "metadata": {},
   "source": [
    "# 5. Write a code to print “Python” for multiples of three instead of the number, “Coding” for the multiples of five, “Python Coding” for multiples of both three and five (range is from 1 to 26)."
   ]
  },
  {
   "cell_type": "code",
   "execution_count": 5,
   "metadata": {},
   "outputs": [
    {
     "name": "stdout",
     "output_type": "stream",
     "text": [
      "Python\n",
      "Coding\n",
      "Python\n",
      "Python\n",
      "Coding\n",
      "Python\n",
      "Python Coding\n",
      "Python\n",
      "Coding\n",
      "Python\n",
      "Python\n",
      "Coding\n"
     ]
    }
   ],
   "source": [
    "for i in range(1,26):\n",
    "    if i%3==0 and i%5==0:\n",
    "        print('Python Coding')\n",
    "    elif i%5==0:\n",
    "        print('Coding')\n",
    "    elif i%3==0:\n",
    "        print('Python')"
   ]
  },
  {
   "cell_type": "markdown",
   "metadata": {},
   "source": [
    "# 6. Write a code to display “hello world” 5 times without changing the given while condition (while count<=10)."
   ]
  },
  {
   "cell_type": "code",
   "execution_count": 6,
   "metadata": {},
   "outputs": [
    {
     "name": "stdout",
     "output_type": "stream",
     "text": [
      "hello world\n",
      "hello world\n",
      "hello world\n",
      "hello world\n",
      "hello world\n"
     ]
    }
   ],
   "source": [
    "count = 1\n",
    "while(count <=10) :\n",
    "    print(\"hello world\")\n",
    "    count = count + 1 \n",
    "    if(count==6):\n",
    "        break"
   ]
  },
  {
   "cell_type": "markdown",
   "metadata": {},
   "source": [
    "# 7. Write a code to find the factors of 24?"
   ]
  },
  {
   "cell_type": "code",
   "execution_count": 7,
   "metadata": {},
   "outputs": [
    {
     "name": "stdout",
     "output_type": "stream",
     "text": [
      "1\n",
      "2\n",
      "3\n",
      "4\n",
      "6\n",
      "8\n",
      "12\n",
      "24\n"
     ]
    }
   ],
   "source": [
    "x=24\n",
    "for i in range(1,x+1):\n",
    "    if x%i==0:\n",
    "        print(i)\n"
   ]
  },
  {
   "cell_type": "markdown",
   "metadata": {},
   "source": [
    "# 8. Write a code to "
   ]
  },
  {
   "cell_type": "code",
   "execution_count": 8,
   "metadata": {},
   "outputs": [],
   "source": [
    "d=[{'name':'hydrogen','number':1,'weight':1.0},{'name':'carbon','number':2,'weight':4.002}]"
   ]
  },
  {
   "cell_type": "markdown",
   "metadata": {},
   "source": [
    "i) extract name elements alone"
   ]
  },
  {
   "cell_type": "code",
   "execution_count": 9,
   "metadata": {},
   "outputs": [
    {
     "name": "stdout",
     "output_type": "stream",
     "text": [
      "name -- hydrogen\n",
      "name -- carbon\n"
     ]
    }
   ],
   "source": [
    "for i in d:\n",
    "    for j,k in i.items():\n",
    "        if j=='name':\n",
    "            print(j,'--',k)"
   ]
  },
  {
   "cell_type": "markdown",
   "metadata": {},
   "source": [
    "ii) multiply the number element by 6.07"
   ]
  },
  {
   "cell_type": "code",
   "execution_count": 10,
   "metadata": {},
   "outputs": [
    {
     "name": "stdout",
     "output_type": "stream",
     "text": [
      "number -- 6.17\n",
      "number -- 12.34\n"
     ]
    }
   ],
   "source": [
    "for i in d:\n",
    "    for j,k in i.items():\n",
    "        if j=='number':\n",
    "            print(j,'--',k*6.17)"
   ]
  },
  {
   "cell_type": "markdown",
   "metadata": {},
   "source": [
    "iii) extract the element where name is carbon (use map). "
   ]
  },
  {
   "cell_type": "code",
   "execution_count": 11,
   "metadata": {},
   "outputs": [
    {
     "name": "stdout",
     "output_type": "stream",
     "text": [
      "[{'name': 'carbon', 'number': 2, 'weight': 4.002}]\n"
     ]
    }
   ],
   "source": [
    "a=[i for i in d for j,k in i.items() if k=='carbon']\n",
    "b=map(lambda x:x,a)\n",
    "print(list(b))"
   ]
  },
  {
   "cell_type": "markdown",
   "metadata": {},
   "source": [
    "# 9. Create a dataset with columns ‘name’, ‘age’, ‘marks’ with values alpha,beta,gamma,delta to name column; 23,45,12,65 to age column; 34.54,89.3,98.23,99 to marks column."
   ]
  },
  {
   "cell_type": "code",
   "execution_count": 12,
   "metadata": {},
   "outputs": [],
   "source": [
    "#creating a datset "
   ]
  },
  {
   "cell_type": "code",
   "execution_count": 13,
   "metadata": {},
   "outputs": [
    {
     "data": {
      "text/plain": [
       "dtype([('Name', '<U16'), ('Age', '<i4'), ('Marks', '<f8')])"
      ]
     },
     "execution_count": 13,
     "metadata": {},
     "output_type": "execute_result"
    }
   ],
   "source": [
    "import numpy as np\n",
    "dt = np.dtype([('Name', np.unicode_, 16), ('Age', np.int32),('Marks',np.float64)]) \n",
    "dt"
   ]
  },
  {
   "cell_type": "code",
   "execution_count": 14,
   "metadata": {},
   "outputs": [
    {
     "name": "stdout",
     "output_type": "stream",
     "text": [
      "[('alpha', 23, 34.54) ('beta', 45, 89.3 ) ('gamma', 12, 98.23)\n",
      " ('delta', 65, 99.  )]\n"
     ]
    }
   ],
   "source": [
    "data = np.array([('alpha',23,34.54), ('beta',45,89.3),('gamma',12,98.23),('delta',65,99)], dtype=dt) \n",
    "print(data)"
   ]
  },
  {
   "cell_type": "markdown",
   "metadata": {},
   "source": [
    "i) Write a code to extract gamma’s age"
   ]
  },
  {
   "cell_type": "code",
   "execution_count": 15,
   "metadata": {},
   "outputs": [
    {
     "name": "stdout",
     "output_type": "stream",
     "text": [
      "gamma age is : 12\n"
     ]
    }
   ],
   "source": [
    "print('gamma age is :',data[2]['Age'])"
   ]
  },
  {
   "cell_type": "markdown",
   "metadata": {},
   "source": [
    "ii) Write a code to extract ‘marks’ and ‘age’ columns from 0th index with 2 intervals in single code"
   ]
  },
  {
   "cell_type": "code",
   "execution_count": 16,
   "metadata": {},
   "outputs": [
    {
     "name": "stdout",
     "output_type": "stream",
     "text": [
      "34.54\n",
      "23\n"
     ]
    }
   ],
   "source": [
    "a=data[0][['Marks','Age']]\n",
    "for i in a:\n",
    "    print(i)"
   ]
  },
  {
   "cell_type": "markdown",
   "metadata": {},
   "source": [
    "iii) Write a code to extract 12,45 from ‘age’ column in the order specified"
   ]
  },
  {
   "cell_type": "code",
   "execution_count": 17,
   "metadata": {},
   "outputs": [
    {
     "name": "stdout",
     "output_type": "stream",
     "text": [
      "12,45,"
     ]
    }
   ],
   "source": [
    "a=data['Age']\n",
    "b=a[::-1]\n",
    "c=b[1:3]\n",
    "for i in c:\n",
    "    print(i,end=',')\n",
    "    "
   ]
  },
  {
   "cell_type": "markdown",
   "metadata": {},
   "source": [
    "# SECTION C – 1*7 = 7 marks"
   ]
  },
  {
   "cell_type": "markdown",
   "metadata": {},
   "source": [
    "# Write a Python Program to swap the first and last elements in the list"
   ]
  },
  {
   "cell_type": "markdown",
   "metadata": {},
   "source": [
    "1.\tGet the count of how many elements should be there in the list"
   ]
  },
  {
   "cell_type": "code",
   "execution_count": 18,
   "metadata": {},
   "outputs": [
    {
     "name": "stdout",
     "output_type": "stream",
     "text": [
      "9\n"
     ]
    }
   ],
   "source": [
    "new_list=[2,3,4,5,6,7,8,9,10]\n",
    "print(len(new_list))"
   ]
  },
  {
   "cell_type": "markdown",
   "metadata": {},
   "source": [
    "2.\tEnter the elements one by one and create a list"
   ]
  },
  {
   "cell_type": "code",
   "execution_count": 19,
   "metadata": {},
   "outputs": [],
   "source": [
    "list1=[]\n",
    "list1.append(4)\n",
    "list1.append(7)\n",
    "list1.append(9)\n",
    "list1.append(6)\n",
    "list1.append(3)\n",
    "list1.append(2)\n",
    "list1.append(3)\n",
    "list1.append(0)"
   ]
  },
  {
   "cell_type": "code",
   "execution_count": 20,
   "metadata": {},
   "outputs": [
    {
     "name": "stdout",
     "output_type": "stream",
     "text": [
      "[4, 7, 9, 6, 3, 2, 3, 0]\n"
     ]
    }
   ],
   "source": [
    "print(list1)"
   ]
  },
  {
   "cell_type": "markdown",
   "metadata": {},
   "source": [
    "3.\tCreate a  program to swap the first and last elements in the list"
   ]
  },
  {
   "cell_type": "code",
   "execution_count": 21,
   "metadata": {},
   "outputs": [
    {
     "name": "stdout",
     "output_type": "stream",
     "text": [
      "[0, 7, 9, 6, 3, 2, 3, 4]\n"
     ]
    }
   ],
   "source": [
    "def swap(l, p1, p2): \n",
    "    l[p1],l[p2] = l[p2],l[p1] \n",
    "    return l\n",
    "p1,p2  = 1, 8 \n",
    "l=[4, 7, 9, 6, 3, 2, 3, 0]\n",
    "print(swap(l, p1-1, p2-1))\n"
   ]
  },
  {
   "cell_type": "markdown",
   "metadata": {},
   "source": [
    "4.\tDisplay the results of the list before and after"
   ]
  },
  {
   "cell_type": "code",
   "execution_count": 22,
   "metadata": {},
   "outputs": [
    {
     "name": "stdout",
     "output_type": "stream",
     "text": [
      "list before : [4, 7, 9, 6, 3, 2, 3, 0]\n"
     ]
    }
   ],
   "source": [
    "print('list before :',list1)"
   ]
  },
  {
   "cell_type": "code",
   "execution_count": 23,
   "metadata": {},
   "outputs": [
    {
     "name": "stdout",
     "output_type": "stream",
     "text": [
      "list after : [0, 7, 9, 6, 3, 2, 3, 4]\n"
     ]
    }
   ],
   "source": [
    "print('list after :',l)"
   ]
  },
  {
   "cell_type": "code",
   "execution_count": null,
   "metadata": {},
   "outputs": [],
   "source": []
  },
  {
   "cell_type": "code",
   "execution_count": null,
   "metadata": {},
   "outputs": [],
   "source": []
  }
 ],
 "metadata": {
  "kernelspec": {
   "display_name": "Python 3",
   "language": "python",
   "name": "python3"
  },
  "language_info": {
   "codemirror_mode": {
    "name": "ipython",
    "version": 3
   },
   "file_extension": ".py",
   "mimetype": "text/x-python",
   "name": "python",
   "nbconvert_exporter": "python",
   "pygments_lexer": "ipython3",
   "version": "3.7.1"
  }
 },
 "nbformat": 4,
 "nbformat_minor": 2
}
