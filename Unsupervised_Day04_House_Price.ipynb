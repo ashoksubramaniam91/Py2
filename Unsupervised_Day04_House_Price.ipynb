{
 "cells": [
  {
   "cell_type": "markdown",
   "metadata": {},
   "source": [
    "# House Prices: Advanced Regression Techniques"
   ]
  },
  {
   "cell_type": "code",
   "execution_count": 1,
   "metadata": {},
   "outputs": [],
   "source": [
    "import numpy as np\n",
    "import pandas as pd\n",
    "import matplotlib.pyplot as plt\n",
    "import seaborn as sns\n",
    "from sklearn.preprocessing import StandardScaler,LabelEncoder # col normalization\n",
    "from  sklearn.decomposition import PCA # reducing the dimensions and finding the optimal components\n",
    "from sklearn.ensemble import BaggingRegressor,RandomForestRegressor,AdaBoostRegressor #ensemble\n",
    "from sklearn.tree import DecisionTreeRegressor #decision tree\n",
    "from sklearn.linear_model import LinearRegression # linear regression"
   ]
  },
  {
   "cell_type": "code",
   "execution_count": 2,
   "metadata": {},
   "outputs": [],
   "source": [
    "#import test and train\n",
    "train=pd.read_csv('C:\\\\Users\\\\Ashok\\\\Desktop\\\\unsupervised\\\\day-04\\\\train.csv')"
   ]
  },
  {
   "cell_type": "code",
   "execution_count": 3,
   "metadata": {},
   "outputs": [],
   "source": [
    "test=pd.read_csv('C:\\\\Users\\\\Ashok\\\\Desktop\\\\unsupervised\\\\day-04\\\\test.csv')"
   ]
  },
  {
   "cell_type": "code",
   "execution_count": 4,
   "metadata": {},
   "outputs": [
    {
     "data": {
      "text/plain": [
       "(1460, 81)"
      ]
     },
     "execution_count": 4,
     "metadata": {},
     "output_type": "execute_result"
    }
   ],
   "source": [
    "train.shape"
   ]
  },
  {
   "cell_type": "code",
   "execution_count": 5,
   "metadata": {},
   "outputs": [
    {
     "name": "stdout",
     "output_type": "stream",
     "text": [
      "<class 'pandas.core.frame.DataFrame'>\n",
      "RangeIndex: 1460 entries, 0 to 1459\n",
      "Data columns (total 81 columns):\n",
      "Id               1460 non-null int64\n",
      "MSSubClass       1460 non-null int64\n",
      "MSZoning         1460 non-null object\n",
      "LotFrontage      1201 non-null float64\n",
      "LotArea          1460 non-null int64\n",
      "Street           1460 non-null object\n",
      "Alley            91 non-null object\n",
      "LotShape         1460 non-null object\n",
      "LandContour      1460 non-null object\n",
      "Utilities        1460 non-null object\n",
      "LotConfig        1460 non-null object\n",
      "LandSlope        1460 non-null object\n",
      "Neighborhood     1460 non-null object\n",
      "Condition1       1460 non-null object\n",
      "Condition2       1460 non-null object\n",
      "BldgType         1460 non-null object\n",
      "HouseStyle       1460 non-null object\n",
      "OverallQual      1460 non-null int64\n",
      "OverallCond      1460 non-null int64\n",
      "YearBuilt        1460 non-null int64\n",
      "YearRemodAdd     1460 non-null int64\n",
      "RoofStyle        1460 non-null object\n",
      "RoofMatl         1460 non-null object\n",
      "Exterior1st      1460 non-null object\n",
      "Exterior2nd      1460 non-null object\n",
      "MasVnrType       1452 non-null object\n",
      "MasVnrArea       1452 non-null float64\n",
      "ExterQual        1460 non-null object\n",
      "ExterCond        1460 non-null object\n",
      "Foundation       1460 non-null object\n",
      "BsmtQual         1423 non-null object\n",
      "BsmtCond         1423 non-null object\n",
      "BsmtExposure     1422 non-null object\n",
      "BsmtFinType1     1423 non-null object\n",
      "BsmtFinSF1       1460 non-null int64\n",
      "BsmtFinType2     1422 non-null object\n",
      "BsmtFinSF2       1460 non-null int64\n",
      "BsmtUnfSF        1460 non-null int64\n",
      "TotalBsmtSF      1460 non-null int64\n",
      "Heating          1460 non-null object\n",
      "HeatingQC        1460 non-null object\n",
      "CentralAir       1460 non-null object\n",
      "Electrical       1459 non-null object\n",
      "1stFlrSF         1460 non-null int64\n",
      "2ndFlrSF         1460 non-null int64\n",
      "LowQualFinSF     1460 non-null int64\n",
      "GrLivArea        1460 non-null int64\n",
      "BsmtFullBath     1460 non-null int64\n",
      "BsmtHalfBath     1460 non-null int64\n",
      "FullBath         1460 non-null int64\n",
      "HalfBath         1460 non-null int64\n",
      "BedroomAbvGr     1460 non-null int64\n",
      "KitchenAbvGr     1460 non-null int64\n",
      "KitchenQual      1460 non-null object\n",
      "TotRmsAbvGrd     1460 non-null int64\n",
      "Functional       1460 non-null object\n",
      "Fireplaces       1460 non-null int64\n",
      "FireplaceQu      770 non-null object\n",
      "GarageType       1379 non-null object\n",
      "GarageYrBlt      1379 non-null float64\n",
      "GarageFinish     1379 non-null object\n",
      "GarageCars       1460 non-null int64\n",
      "GarageArea       1460 non-null int64\n",
      "GarageQual       1379 non-null object\n",
      "GarageCond       1379 non-null object\n",
      "PavedDrive       1460 non-null object\n",
      "WoodDeckSF       1460 non-null int64\n",
      "OpenPorchSF      1460 non-null int64\n",
      "EnclosedPorch    1460 non-null int64\n",
      "3SsnPorch        1460 non-null int64\n",
      "ScreenPorch      1460 non-null int64\n",
      "PoolArea         1460 non-null int64\n",
      "PoolQC           7 non-null object\n",
      "Fence            281 non-null object\n",
      "MiscFeature      54 non-null object\n",
      "MiscVal          1460 non-null int64\n",
      "MoSold           1460 non-null int64\n",
      "YrSold           1460 non-null int64\n",
      "SaleType         1460 non-null object\n",
      "SaleCondition    1460 non-null object\n",
      "SalePrice        1460 non-null int64\n",
      "dtypes: float64(3), int64(35), object(43)\n",
      "memory usage: 924.0+ KB\n"
     ]
    }
   ],
   "source": [
    "train.info()"
   ]
  },
  {
   "cell_type": "code",
   "execution_count": 6,
   "metadata": {},
   "outputs": [
    {
     "data": {
      "text/html": [
       "<div>\n",
       "<style scoped>\n",
       "    .dataframe tbody tr th:only-of-type {\n",
       "        vertical-align: middle;\n",
       "    }\n",
       "\n",
       "    .dataframe tbody tr th {\n",
       "        vertical-align: top;\n",
       "    }\n",
       "\n",
       "    .dataframe thead th {\n",
       "        text-align: right;\n",
       "    }\n",
       "</style>\n",
       "<table border=\"1\" class=\"dataframe\">\n",
       "  <thead>\n",
       "    <tr style=\"text-align: right;\">\n",
       "      <th></th>\n",
       "      <th>Id</th>\n",
       "      <th>MSSubClass</th>\n",
       "      <th>MSZoning</th>\n",
       "      <th>LotFrontage</th>\n",
       "      <th>LotArea</th>\n",
       "      <th>Street</th>\n",
       "      <th>Alley</th>\n",
       "      <th>LotShape</th>\n",
       "      <th>LandContour</th>\n",
       "      <th>Utilities</th>\n",
       "      <th>...</th>\n",
       "      <th>PoolArea</th>\n",
       "      <th>PoolQC</th>\n",
       "      <th>Fence</th>\n",
       "      <th>MiscFeature</th>\n",
       "      <th>MiscVal</th>\n",
       "      <th>MoSold</th>\n",
       "      <th>YrSold</th>\n",
       "      <th>SaleType</th>\n",
       "      <th>SaleCondition</th>\n",
       "      <th>SalePrice</th>\n",
       "    </tr>\n",
       "  </thead>\n",
       "  <tbody>\n",
       "    <tr>\n",
       "      <th>0</th>\n",
       "      <td>1</td>\n",
       "      <td>60</td>\n",
       "      <td>RL</td>\n",
       "      <td>65.0</td>\n",
       "      <td>8450</td>\n",
       "      <td>Pave</td>\n",
       "      <td>NaN</td>\n",
       "      <td>Reg</td>\n",
       "      <td>Lvl</td>\n",
       "      <td>AllPub</td>\n",
       "      <td>...</td>\n",
       "      <td>0</td>\n",
       "      <td>NaN</td>\n",
       "      <td>NaN</td>\n",
       "      <td>NaN</td>\n",
       "      <td>0</td>\n",
       "      <td>2</td>\n",
       "      <td>2008</td>\n",
       "      <td>WD</td>\n",
       "      <td>Normal</td>\n",
       "      <td>208500</td>\n",
       "    </tr>\n",
       "    <tr>\n",
       "      <th>1</th>\n",
       "      <td>2</td>\n",
       "      <td>20</td>\n",
       "      <td>RL</td>\n",
       "      <td>80.0</td>\n",
       "      <td>9600</td>\n",
       "      <td>Pave</td>\n",
       "      <td>NaN</td>\n",
       "      <td>Reg</td>\n",
       "      <td>Lvl</td>\n",
       "      <td>AllPub</td>\n",
       "      <td>...</td>\n",
       "      <td>0</td>\n",
       "      <td>NaN</td>\n",
       "      <td>NaN</td>\n",
       "      <td>NaN</td>\n",
       "      <td>0</td>\n",
       "      <td>5</td>\n",
       "      <td>2007</td>\n",
       "      <td>WD</td>\n",
       "      <td>Normal</td>\n",
       "      <td>181500</td>\n",
       "    </tr>\n",
       "    <tr>\n",
       "      <th>2</th>\n",
       "      <td>3</td>\n",
       "      <td>60</td>\n",
       "      <td>RL</td>\n",
       "      <td>68.0</td>\n",
       "      <td>11250</td>\n",
       "      <td>Pave</td>\n",
       "      <td>NaN</td>\n",
       "      <td>IR1</td>\n",
       "      <td>Lvl</td>\n",
       "      <td>AllPub</td>\n",
       "      <td>...</td>\n",
       "      <td>0</td>\n",
       "      <td>NaN</td>\n",
       "      <td>NaN</td>\n",
       "      <td>NaN</td>\n",
       "      <td>0</td>\n",
       "      <td>9</td>\n",
       "      <td>2008</td>\n",
       "      <td>WD</td>\n",
       "      <td>Normal</td>\n",
       "      <td>223500</td>\n",
       "    </tr>\n",
       "    <tr>\n",
       "      <th>3</th>\n",
       "      <td>4</td>\n",
       "      <td>70</td>\n",
       "      <td>RL</td>\n",
       "      <td>60.0</td>\n",
       "      <td>9550</td>\n",
       "      <td>Pave</td>\n",
       "      <td>NaN</td>\n",
       "      <td>IR1</td>\n",
       "      <td>Lvl</td>\n",
       "      <td>AllPub</td>\n",
       "      <td>...</td>\n",
       "      <td>0</td>\n",
       "      <td>NaN</td>\n",
       "      <td>NaN</td>\n",
       "      <td>NaN</td>\n",
       "      <td>0</td>\n",
       "      <td>2</td>\n",
       "      <td>2006</td>\n",
       "      <td>WD</td>\n",
       "      <td>Abnorml</td>\n",
       "      <td>140000</td>\n",
       "    </tr>\n",
       "    <tr>\n",
       "      <th>4</th>\n",
       "      <td>5</td>\n",
       "      <td>60</td>\n",
       "      <td>RL</td>\n",
       "      <td>84.0</td>\n",
       "      <td>14260</td>\n",
       "      <td>Pave</td>\n",
       "      <td>NaN</td>\n",
       "      <td>IR1</td>\n",
       "      <td>Lvl</td>\n",
       "      <td>AllPub</td>\n",
       "      <td>...</td>\n",
       "      <td>0</td>\n",
       "      <td>NaN</td>\n",
       "      <td>NaN</td>\n",
       "      <td>NaN</td>\n",
       "      <td>0</td>\n",
       "      <td>12</td>\n",
       "      <td>2008</td>\n",
       "      <td>WD</td>\n",
       "      <td>Normal</td>\n",
       "      <td>250000</td>\n",
       "    </tr>\n",
       "  </tbody>\n",
       "</table>\n",
       "<p>5 rows × 81 columns</p>\n",
       "</div>"
      ],
      "text/plain": [
       "   Id  MSSubClass MSZoning  LotFrontage  LotArea Street Alley LotShape  \\\n",
       "0   1          60       RL         65.0     8450   Pave   NaN      Reg   \n",
       "1   2          20       RL         80.0     9600   Pave   NaN      Reg   \n",
       "2   3          60       RL         68.0    11250   Pave   NaN      IR1   \n",
       "3   4          70       RL         60.0     9550   Pave   NaN      IR1   \n",
       "4   5          60       RL         84.0    14260   Pave   NaN      IR1   \n",
       "\n",
       "  LandContour Utilities    ...     PoolArea PoolQC Fence MiscFeature MiscVal  \\\n",
       "0         Lvl    AllPub    ...            0    NaN   NaN         NaN       0   \n",
       "1         Lvl    AllPub    ...            0    NaN   NaN         NaN       0   \n",
       "2         Lvl    AllPub    ...            0    NaN   NaN         NaN       0   \n",
       "3         Lvl    AllPub    ...            0    NaN   NaN         NaN       0   \n",
       "4         Lvl    AllPub    ...            0    NaN   NaN         NaN       0   \n",
       "\n",
       "  MoSold YrSold  SaleType  SaleCondition  SalePrice  \n",
       "0      2   2008        WD         Normal     208500  \n",
       "1      5   2007        WD         Normal     181500  \n",
       "2      9   2008        WD         Normal     223500  \n",
       "3      2   2006        WD        Abnorml     140000  \n",
       "4     12   2008        WD         Normal     250000  \n",
       "\n",
       "[5 rows x 81 columns]"
      ]
     },
     "execution_count": 6,
     "metadata": {},
     "output_type": "execute_result"
    }
   ],
   "source": [
    "train.head()"
   ]
  },
  {
   "cell_type": "code",
   "execution_count": 7,
   "metadata": {},
   "outputs": [
    {
     "data": {
      "text/plain": [
       "Id                  0\n",
       "MSSubClass          0\n",
       "MSZoning            0\n",
       "LotFrontage       259\n",
       "LotArea             0\n",
       "Street              0\n",
       "Alley            1369\n",
       "LotShape            0\n",
       "LandContour         0\n",
       "Utilities           0\n",
       "LotConfig           0\n",
       "LandSlope           0\n",
       "Neighborhood        0\n",
       "Condition1          0\n",
       "Condition2          0\n",
       "BldgType            0\n",
       "HouseStyle          0\n",
       "OverallQual         0\n",
       "OverallCond         0\n",
       "YearBuilt           0\n",
       "YearRemodAdd        0\n",
       "RoofStyle           0\n",
       "RoofMatl            0\n",
       "Exterior1st         0\n",
       "Exterior2nd         0\n",
       "MasVnrType          8\n",
       "MasVnrArea          8\n",
       "ExterQual           0\n",
       "ExterCond           0\n",
       "Foundation          0\n",
       "                 ... \n",
       "BedroomAbvGr        0\n",
       "KitchenAbvGr        0\n",
       "KitchenQual         0\n",
       "TotRmsAbvGrd        0\n",
       "Functional          0\n",
       "Fireplaces          0\n",
       "FireplaceQu       690\n",
       "GarageType         81\n",
       "GarageYrBlt        81\n",
       "GarageFinish       81\n",
       "GarageCars          0\n",
       "GarageArea          0\n",
       "GarageQual         81\n",
       "GarageCond         81\n",
       "PavedDrive          0\n",
       "WoodDeckSF          0\n",
       "OpenPorchSF         0\n",
       "EnclosedPorch       0\n",
       "3SsnPorch           0\n",
       "ScreenPorch         0\n",
       "PoolArea            0\n",
       "PoolQC           1453\n",
       "Fence            1179\n",
       "MiscFeature      1406\n",
       "MiscVal             0\n",
       "MoSold              0\n",
       "YrSold              0\n",
       "SaleType            0\n",
       "SaleCondition       0\n",
       "SalePrice           0\n",
       "Length: 81, dtype: int64"
      ]
     },
     "execution_count": 7,
     "metadata": {},
     "output_type": "execute_result"
    }
   ],
   "source": [
    "train.isnull().sum()"
   ]
  },
  {
   "cell_type": "code",
   "execution_count": 8,
   "metadata": {},
   "outputs": [
    {
     "data": {
      "text/plain": [
       "<matplotlib.axes._subplots.AxesSubplot at 0xb638908>"
      ]
     },
     "execution_count": 8,
     "metadata": {},
     "output_type": "execute_result"
    },
    {
     "data": {
      "image/png": "[encoded data removed]",
      "text/plain": [
       "<Figure size 720x576 with 2 Axes>"
      ]
     },
     "metadata": {
      "needs_background": "light"
     },
     "output_type": "display_data"
    }
   ],
   "source": [
    "#visualize the missing values\n",
    "plt.figure(figsize=[10,8])\n",
    "sns.heatmap(train.isnull())\n",
    "#white space menas missing values"
   ]
  },
  {
   "cell_type": "code",
   "execution_count": 9,
   "metadata": {},
   "outputs": [],
   "source": [
    "#the columns that have missing values are "
   ]
  },
  {
   "cell_type": "code",
   "execution_count": 10,
   "metadata": {},
   "outputs": [
    {
     "data": {
      "text/plain": [
       "(1459, 80)"
      ]
     },
     "execution_count": 10,
     "metadata": {},
     "output_type": "execute_result"
    }
   ],
   "source": [
    "test.shape"
   ]
  },
  {
   "cell_type": "code",
   "execution_count": 11,
   "metadata": {},
   "outputs": [
    {
     "data": {
      "text/html": [
       "<div>\n",
       "<style scoped>\n",
       "    .dataframe tbody tr th:only-of-type {\n",
       "        vertical-align: middle;\n",
       "    }\n",
       "\n",
       "    .dataframe tbody tr th {\n",
       "        vertical-align: top;\n",
       "    }\n",
       "\n",
       "    .dataframe thead th {\n",
       "        text-align: right;\n",
       "    }\n",
       "</style>\n",
       "<table border=\"1\" class=\"dataframe\">\n",
       "  <thead>\n",
       "    <tr style=\"text-align: right;\">\n",
       "      <th></th>\n",
       "      <th>Id</th>\n",
       "      <th>MSSubClass</th>\n",
       "      <th>MSZoning</th>\n",
       "      <th>LotFrontage</th>\n",
       "      <th>LotArea</th>\n",
       "      <th>Street</th>\n",
       "      <th>Alley</th>\n",
       "      <th>LotShape</th>\n",
       "      <th>LandContour</th>\n",
       "      <th>Utilities</th>\n",
       "      <th>...</th>\n",
       "      <th>ScreenPorch</th>\n",
       "      <th>PoolArea</th>\n",
       "      <th>PoolQC</th>\n",
       "      <th>Fence</th>\n",
       "      <th>MiscFeature</th>\n",
       "      <th>MiscVal</th>\n",
       "      <th>MoSold</th>\n",
       "      <th>YrSold</th>\n",
       "      <th>SaleType</th>\n",
       "      <th>SaleCondition</th>\n",
       "    </tr>\n",
       "  </thead>\n",
       "  <tbody>\n",
       "    <tr>\n",
       "      <th>0</th>\n",
       "      <td>1461</td>\n",
       "      <td>20</td>\n",
       "      <td>RH</td>\n",
       "      <td>80.0</td>\n",
       "      <td>11622</td>\n",
       "      <td>Pave</td>\n",
       "      <td>NaN</td>\n",
       "      <td>Reg</td>\n",
       "      <td>Lvl</td>\n",
       "      <td>AllPub</td>\n",
       "      <td>...</td>\n",
       "      <td>120</td>\n",
       "      <td>0</td>\n",
       "      <td>NaN</td>\n",
       "      <td>MnPrv</td>\n",
       "      <td>NaN</td>\n",
       "      <td>0</td>\n",
       "      <td>6</td>\n",
       "      <td>2010</td>\n",
       "      <td>WD</td>\n",
       "      <td>Normal</td>\n",
       "    </tr>\n",
       "    <tr>\n",
       "      <th>1</th>\n",
       "      <td>1462</td>\n",
       "      <td>20</td>\n",
       "      <td>RL</td>\n",
       "      <td>81.0</td>\n",
       "      <td>14267</td>\n",
       "      <td>Pave</td>\n",
       "      <td>NaN</td>\n",
       "      <td>IR1</td>\n",
       "      <td>Lvl</td>\n",
       "      <td>AllPub</td>\n",
       "      <td>...</td>\n",
       "      <td>0</td>\n",
       "      <td>0</td>\n",
       "      <td>NaN</td>\n",
       "      <td>NaN</td>\n",
       "      <td>Gar2</td>\n",
       "      <td>12500</td>\n",
       "      <td>6</td>\n",
       "      <td>2010</td>\n",
       "      <td>WD</td>\n",
       "      <td>Normal</td>\n",
       "    </tr>\n",
       "    <tr>\n",
       "      <th>2</th>\n",
       "      <td>1463</td>\n",
       "      <td>60</td>\n",
       "      <td>RL</td>\n",
       "      <td>74.0</td>\n",
       "      <td>13830</td>\n",
       "      <td>Pave</td>\n",
       "      <td>NaN</td>\n",
       "      <td>IR1</td>\n",
       "      <td>Lvl</td>\n",
       "      <td>AllPub</td>\n",
       "      <td>...</td>\n",
       "      <td>0</td>\n",
       "      <td>0</td>\n",
       "      <td>NaN</td>\n",
       "      <td>MnPrv</td>\n",
       "      <td>NaN</td>\n",
       "      <td>0</td>\n",
       "      <td>3</td>\n",
       "      <td>2010</td>\n",
       "      <td>WD</td>\n",
       "      <td>Normal</td>\n",
       "    </tr>\n",
       "    <tr>\n",
       "      <th>3</th>\n",
       "      <td>1464</td>\n",
       "      <td>60</td>\n",
       "      <td>RL</td>\n",
       "      <td>78.0</td>\n",
       "      <td>9978</td>\n",
       "      <td>Pave</td>\n",
       "      <td>NaN</td>\n",
       "      <td>IR1</td>\n",
       "      <td>Lvl</td>\n",
       "      <td>AllPub</td>\n",
       "      <td>...</td>\n",
       "      <td>0</td>\n",
       "      <td>0</td>\n",
       "      <td>NaN</td>\n",
       "      <td>NaN</td>\n",
       "      <td>NaN</td>\n",
       "      <td>0</td>\n",
       "      <td>6</td>\n",
       "      <td>2010</td>\n",
       "      <td>WD</td>\n",
       "      <td>Normal</td>\n",
       "    </tr>\n",
       "    <tr>\n",
       "      <th>4</th>\n",
       "      <td>1465</td>\n",
       "      <td>120</td>\n",
       "      <td>RL</td>\n",
       "      <td>43.0</td>\n",
       "      <td>5005</td>\n",
       "      <td>Pave</td>\n",
       "      <td>NaN</td>\n",
       "      <td>IR1</td>\n",
       "      <td>HLS</td>\n",
       "      <td>AllPub</td>\n",
       "      <td>...</td>\n",
       "      <td>144</td>\n",
       "      <td>0</td>\n",
       "      <td>NaN</td>\n",
       "      <td>NaN</td>\n",
       "      <td>NaN</td>\n",
       "      <td>0</td>\n",
       "      <td>1</td>\n",
       "      <td>2010</td>\n",
       "      <td>WD</td>\n",
       "      <td>Normal</td>\n",
       "    </tr>\n",
       "  </tbody>\n",
       "</table>\n",
       "<p>5 rows × 80 columns</p>\n",
       "</div>"
      ],
      "text/plain": [
       "     Id  MSSubClass MSZoning  LotFrontage  LotArea Street Alley LotShape  \\\n",
       "0  1461          20       RH         80.0    11622   Pave   NaN      Reg   \n",
       "1  1462          20       RL         81.0    14267   Pave   NaN      IR1   \n",
       "2  1463          60       RL         74.0    13830   Pave   NaN      IR1   \n",
       "3  1464          60       RL         78.0     9978   Pave   NaN      IR1   \n",
       "4  1465         120       RL         43.0     5005   Pave   NaN      IR1   \n",
       "\n",
       "  LandContour Utilities      ...       ScreenPorch PoolArea PoolQC  Fence  \\\n",
       "0         Lvl    AllPub      ...               120        0    NaN  MnPrv   \n",
       "1         Lvl    AllPub      ...                 0        0    NaN    NaN   \n",
       "2         Lvl    AllPub      ...                 0        0    NaN  MnPrv   \n",
       "3         Lvl    AllPub      ...                 0        0    NaN    NaN   \n",
       "4         HLS    AllPub      ...               144        0    NaN    NaN   \n",
       "\n",
       "  MiscFeature MiscVal MoSold  YrSold  SaleType  SaleCondition  \n",
       "0         NaN       0      6    2010        WD         Normal  \n",
       "1        Gar2   12500      6    2010        WD         Normal  \n",
       "2         NaN       0      3    2010        WD         Normal  \n",
       "3         NaN       0      6    2010        WD         Normal  \n",
       "4         NaN       0      1    2010        WD         Normal  \n",
       "\n",
       "[5 rows x 80 columns]"
      ]
     },
     "execution_count": 11,
     "metadata": {},
     "output_type": "execute_result"
    }
   ],
   "source": [
    "test.head()"
   ]
  },
  {
   "cell_type": "code",
   "execution_count": 12,
   "metadata": {},
   "outputs": [
    {
     "data": {
      "text/plain": [
       "Id                  0\n",
       "MSSubClass          0\n",
       "MSZoning            4\n",
       "LotFrontage       227\n",
       "LotArea             0\n",
       "Street              0\n",
       "Alley            1352\n",
       "LotShape            0\n",
       "LandContour         0\n",
       "Utilities           2\n",
       "LotConfig           0\n",
       "LandSlope           0\n",
       "Neighborhood        0\n",
       "Condition1          0\n",
       "Condition2          0\n",
       "BldgType            0\n",
       "HouseStyle          0\n",
       "OverallQual         0\n",
       "OverallCond         0\n",
       "YearBuilt           0\n",
       "YearRemodAdd        0\n",
       "RoofStyle           0\n",
       "RoofMatl            0\n",
       "Exterior1st         1\n",
       "Exterior2nd         1\n",
       "MasVnrType         16\n",
       "MasVnrArea         15\n",
       "ExterQual           0\n",
       "ExterCond           0\n",
       "Foundation          0\n",
       "                 ... \n",
       "HalfBath            0\n",
       "BedroomAbvGr        0\n",
       "KitchenAbvGr        0\n",
       "KitchenQual         1\n",
       "TotRmsAbvGrd        0\n",
       "Functional          2\n",
       "Fireplaces          0\n",
       "FireplaceQu       730\n",
       "GarageType         76\n",
       "GarageYrBlt        78\n",
       "GarageFinish       78\n",
       "GarageCars          1\n",
       "GarageArea          1\n",
       "GarageQual         78\n",
       "GarageCond         78\n",
       "PavedDrive          0\n",
       "WoodDeckSF          0\n",
       "OpenPorchSF         0\n",
       "EnclosedPorch       0\n",
       "3SsnPorch           0\n",
       "ScreenPorch         0\n",
       "PoolArea            0\n",
       "PoolQC           1456\n",
       "Fence            1169\n",
       "MiscFeature      1408\n",
       "MiscVal             0\n",
       "MoSold              0\n",
       "YrSold              0\n",
       "SaleType            1\n",
       "SaleCondition       0\n",
       "Length: 80, dtype: int64"
      ]
     },
     "execution_count": 12,
     "metadata": {},
     "output_type": "execute_result"
    }
   ],
   "source": [
    "test.isnull().sum()"
   ]
  },
  {
   "cell_type": "code",
   "execution_count": 13,
   "metadata": {},
   "outputs": [
    {
     "data": {
      "text/plain": [
       "<matplotlib.axes._subplots.AxesSubplot at 0xcb58518>"
      ]
     },
     "execution_count": 13,
     "metadata": {},
     "output_type": "execute_result"
    },
    {
     "data": {
      "image/png": "[encoded data removed]",
      "text/plain": [
       "<Figure size 720x576 with 2 Axes>"
      ]
     },
     "metadata": {
      "needs_background": "light"
     },
     "output_type": "display_data"
    }
   ],
   "source": [
    "#visualize the missing values\n",
    "plt.figure(figsize=[10,8])\n",
    "sns.heatmap(test.isnull())\n",
    "#white space menas missing values"
   ]
  },
  {
   "cell_type": "code",
   "execution_count": 14,
   "metadata": {},
   "outputs": [
    {
     "data": {
      "text/plain": [
       "0"
      ]
     },
     "execution_count": 14,
     "metadata": {},
     "output_type": "execute_result"
    }
   ],
   "source": [
    "#to find the total number of question marks in the entir dataset\n",
    "sum(train.MSZoning=='?')"
   ]
  },
  {
   "cell_type": "code",
   "execution_count": 15,
   "metadata": {},
   "outputs": [
    {
     "name": "stdout",
     "output_type": "stream",
     "text": [
      "[0, 0, 0, 0, 0, 0, 0, 0, 0, 0, 0, 0, 0, 0, 0, 0, 0, 0, 0, 0, 0, 0, 0, 0, 0, 0, 0, 0, 0, 0, 0, 0, 0, 0, 0, 0, 0, 0, 0, 0, 0, 0, 0]\n",
      "43\n"
     ]
    }
   ],
   "source": [
    "a=[]\n",
    "b=[]\n",
    "for i in train.columns:\n",
    "    if train[i].dtype=='object':\n",
    "        a=sum(train.MSZoning=='?')\n",
    "        b.append(a)\n",
    "print(b)\n",
    "print(len(b))\n",
    "        "
   ]
  },
  {
   "cell_type": "code",
   "execution_count": 16,
   "metadata": {},
   "outputs": [
    {
     "data": {
      "text/plain": [
       "Index(['Id', 'MSSubClass', 'MSZoning', 'LotFrontage', 'LotArea', 'Street',\n",
       "       'Alley', 'LotShape', 'LandContour', 'Utilities', 'LotConfig',\n",
       "       'LandSlope', 'Neighborhood', 'Condition1', 'Condition2', 'BldgType',\n",
       "       'HouseStyle', 'OverallQual', 'OverallCond', 'YearBuilt', 'YearRemodAdd',\n",
       "       'RoofStyle', 'RoofMatl', 'Exterior1st', 'Exterior2nd', 'MasVnrType',\n",
       "       'MasVnrArea', 'ExterQual', 'ExterCond', 'Foundation', 'BsmtQual',\n",
       "       'BsmtCond', 'BsmtExposure', 'BsmtFinType1', 'BsmtFinSF1',\n",
       "       'BsmtFinType2', 'BsmtFinSF2', 'BsmtUnfSF', 'TotalBsmtSF', 'Heating',\n",
       "       'HeatingQC', 'CentralAir', 'Electrical', '1stFlrSF', '2ndFlrSF',\n",
       "       'LowQualFinSF', 'GrLivArea', 'BsmtFullBath', 'BsmtHalfBath', 'FullBath',\n",
       "       'HalfBath', 'BedroomAbvGr', 'KitchenAbvGr', 'KitchenQual',\n",
       "       'TotRmsAbvGrd', 'Functional', 'Fireplaces', 'FireplaceQu', 'GarageType',\n",
       "       'GarageYrBlt', 'GarageFinish', 'GarageCars', 'GarageArea', 'GarageQual',\n",
       "       'GarageCond', 'PavedDrive', 'WoodDeckSF', 'OpenPorchSF',\n",
       "       'EnclosedPorch', '3SsnPorch', 'ScreenPorch', 'PoolArea', 'PoolQC',\n",
       "       'Fence', 'MiscFeature', 'MiscVal', 'MoSold', 'YrSold', 'SaleType',\n",
       "       'SaleCondition', 'SalePrice'],\n",
       "      dtype='object')"
      ]
     },
     "execution_count": 16,
     "metadata": {},
     "output_type": "execute_result"
    }
   ],
   "source": [
    "#finding if the columns have ?\n",
    "train.columns"
   ]
  },
  {
   "cell_type": "code",
   "execution_count": 17,
   "metadata": {},
   "outputs": [
    {
     "name": "stdout",
     "output_type": "stream",
     "text": [
      "MSZoning : 0\n",
      "Street : 0\n",
      "Alley : 0\n",
      "LotShape : 0\n",
      "LandContour : 0\n",
      "Utilities : 0\n",
      "LotConfig : 0\n",
      "LandSlope : 0\n",
      "Neighborhood : 0\n",
      "Condition1 : 0\n",
      "Condition2 : 0\n",
      "BldgType : 0\n",
      "HouseStyle : 0\n",
      "RoofStyle : 0\n",
      "RoofMatl : 0\n",
      "Exterior1st : 0\n",
      "Exterior2nd : 0\n",
      "MasVnrType : 0\n",
      "ExterQual : 0\n",
      "ExterCond : 0\n",
      "Foundation : 0\n",
      "BsmtQual : 0\n",
      "BsmtCond : 0\n",
      "BsmtExposure : 0\n",
      "BsmtFinType1 : 0\n",
      "BsmtFinType2 : 0\n",
      "Heating : 0\n",
      "HeatingQC : 0\n",
      "CentralAir : 0\n",
      "Electrical : 0\n",
      "KitchenQual : 0\n",
      "Functional : 0\n",
      "FireplaceQu : 0\n",
      "GarageType : 0\n",
      "GarageFinish : 0\n",
      "GarageQual : 0\n",
      "GarageCond : 0\n",
      "PavedDrive : 0\n",
      "PoolQC : 0\n",
      "Fence : 0\n",
      "MiscFeature : 0\n",
      "SaleType : 0\n",
      "SaleCondition : 0\n"
     ]
    }
   ],
   "source": [
    "for i in train.columns:\n",
    "    if train[i].dtype=='object':\n",
    "        print(i,':',sum(train[i]=='?'))"
   ]
  },
  {
   "cell_type": "code",
   "execution_count": 18,
   "metadata": {},
   "outputs": [],
   "source": [
    "#there are ? in any of the object columns"
   ]
  },
  {
   "cell_type": "markdown",
   "metadata": {},
   "source": [
    "# Remove missing values"
   ]
  },
  {
   "cell_type": "code",
   "execution_count": 19,
   "metadata": {},
   "outputs": [
    {
     "data": {
      "text/html": [
       "<div>\n",
       "<style scoped>\n",
       "    .dataframe tbody tr th:only-of-type {\n",
       "        vertical-align: middle;\n",
       "    }\n",
       "\n",
       "    .dataframe tbody tr th {\n",
       "        vertical-align: top;\n",
       "    }\n",
       "\n",
       "    .dataframe thead th {\n",
       "        text-align: right;\n",
       "    }\n",
       "</style>\n",
       "<table border=\"1\" class=\"dataframe\">\n",
       "  <thead>\n",
       "    <tr style=\"text-align: right;\">\n",
       "      <th></th>\n",
       "      <th>Id</th>\n",
       "      <th>MSSubClass</th>\n",
       "      <th>MSZoning</th>\n",
       "      <th>LotFrontage</th>\n",
       "      <th>LotArea</th>\n",
       "      <th>Street</th>\n",
       "      <th>Alley</th>\n",
       "      <th>LotShape</th>\n",
       "      <th>LandContour</th>\n",
       "      <th>Utilities</th>\n",
       "      <th>...</th>\n",
       "      <th>PoolArea</th>\n",
       "      <th>PoolQC</th>\n",
       "      <th>Fence</th>\n",
       "      <th>MiscFeature</th>\n",
       "      <th>MiscVal</th>\n",
       "      <th>MoSold</th>\n",
       "      <th>YrSold</th>\n",
       "      <th>SaleType</th>\n",
       "      <th>SaleCondition</th>\n",
       "      <th>SalePrice</th>\n",
       "    </tr>\n",
       "  </thead>\n",
       "  <tbody>\n",
       "    <tr>\n",
       "      <th>0</th>\n",
       "      <td>1</td>\n",
       "      <td>60</td>\n",
       "      <td>RL</td>\n",
       "      <td>65.0</td>\n",
       "      <td>8450</td>\n",
       "      <td>Pave</td>\n",
       "      <td>NaN</td>\n",
       "      <td>Reg</td>\n",
       "      <td>Lvl</td>\n",
       "      <td>AllPub</td>\n",
       "      <td>...</td>\n",
       "      <td>0</td>\n",
       "      <td>NaN</td>\n",
       "      <td>NaN</td>\n",
       "      <td>NaN</td>\n",
       "      <td>0</td>\n",
       "      <td>2</td>\n",
       "      <td>2008</td>\n",
       "      <td>WD</td>\n",
       "      <td>Normal</td>\n",
       "      <td>208500</td>\n",
       "    </tr>\n",
       "    <tr>\n",
       "      <th>1</th>\n",
       "      <td>2</td>\n",
       "      <td>20</td>\n",
       "      <td>RL</td>\n",
       "      <td>80.0</td>\n",
       "      <td>9600</td>\n",
       "      <td>Pave</td>\n",
       "      <td>NaN</td>\n",
       "      <td>Reg</td>\n",
       "      <td>Lvl</td>\n",
       "      <td>AllPub</td>\n",
       "      <td>...</td>\n",
       "      <td>0</td>\n",
       "      <td>NaN</td>\n",
       "      <td>NaN</td>\n",
       "      <td>NaN</td>\n",
       "      <td>0</td>\n",
       "      <td>5</td>\n",
       "      <td>2007</td>\n",
       "      <td>WD</td>\n",
       "      <td>Normal</td>\n",
       "      <td>181500</td>\n",
       "    </tr>\n",
       "    <tr>\n",
       "      <th>2</th>\n",
       "      <td>3</td>\n",
       "      <td>60</td>\n",
       "      <td>RL</td>\n",
       "      <td>68.0</td>\n",
       "      <td>11250</td>\n",
       "      <td>Pave</td>\n",
       "      <td>NaN</td>\n",
       "      <td>IR1</td>\n",
       "      <td>Lvl</td>\n",
       "      <td>AllPub</td>\n",
       "      <td>...</td>\n",
       "      <td>0</td>\n",
       "      <td>NaN</td>\n",
       "      <td>NaN</td>\n",
       "      <td>NaN</td>\n",
       "      <td>0</td>\n",
       "      <td>9</td>\n",
       "      <td>2008</td>\n",
       "      <td>WD</td>\n",
       "      <td>Normal</td>\n",
       "      <td>223500</td>\n",
       "    </tr>\n",
       "    <tr>\n",
       "      <th>3</th>\n",
       "      <td>4</td>\n",
       "      <td>70</td>\n",
       "      <td>RL</td>\n",
       "      <td>60.0</td>\n",
       "      <td>9550</td>\n",
       "      <td>Pave</td>\n",
       "      <td>NaN</td>\n",
       "      <td>IR1</td>\n",
       "      <td>Lvl</td>\n",
       "      <td>AllPub</td>\n",
       "      <td>...</td>\n",
       "      <td>0</td>\n",
       "      <td>NaN</td>\n",
       "      <td>NaN</td>\n",
       "      <td>NaN</td>\n",
       "      <td>0</td>\n",
       "      <td>2</td>\n",
       "      <td>2006</td>\n",
       "      <td>WD</td>\n",
       "      <td>Abnorml</td>\n",
       "      <td>140000</td>\n",
       "    </tr>\n",
       "    <tr>\n",
       "      <th>4</th>\n",
       "      <td>5</td>\n",
       "      <td>60</td>\n",
       "      <td>RL</td>\n",
       "      <td>84.0</td>\n",
       "      <td>14260</td>\n",
       "      <td>Pave</td>\n",
       "      <td>NaN</td>\n",
       "      <td>IR1</td>\n",
       "      <td>Lvl</td>\n",
       "      <td>AllPub</td>\n",
       "      <td>...</td>\n",
       "      <td>0</td>\n",
       "      <td>NaN</td>\n",
       "      <td>NaN</td>\n",
       "      <td>NaN</td>\n",
       "      <td>0</td>\n",
       "      <td>12</td>\n",
       "      <td>2008</td>\n",
       "      <td>WD</td>\n",
       "      <td>Normal</td>\n",
       "      <td>250000</td>\n",
       "    </tr>\n",
       "  </tbody>\n",
       "</table>\n",
       "<p>5 rows × 81 columns</p>\n",
       "</div>"
      ],
      "text/plain": [
       "   Id  MSSubClass MSZoning  LotFrontage  LotArea Street Alley LotShape  \\\n",
       "0   1          60       RL         65.0     8450   Pave   NaN      Reg   \n",
       "1   2          20       RL         80.0     9600   Pave   NaN      Reg   \n",
       "2   3          60       RL         68.0    11250   Pave   NaN      IR1   \n",
       "3   4          70       RL         60.0     9550   Pave   NaN      IR1   \n",
       "4   5          60       RL         84.0    14260   Pave   NaN      IR1   \n",
       "\n",
       "  LandContour Utilities    ...     PoolArea PoolQC Fence MiscFeature MiscVal  \\\n",
       "0         Lvl    AllPub    ...            0    NaN   NaN         NaN       0   \n",
       "1         Lvl    AllPub    ...            0    NaN   NaN         NaN       0   \n",
       "2         Lvl    AllPub    ...            0    NaN   NaN         NaN       0   \n",
       "3         Lvl    AllPub    ...            0    NaN   NaN         NaN       0   \n",
       "4         Lvl    AllPub    ...            0    NaN   NaN         NaN       0   \n",
       "\n",
       "  MoSold YrSold  SaleType  SaleCondition  SalePrice  \n",
       "0      2   2008        WD         Normal     208500  \n",
       "1      5   2007        WD         Normal     181500  \n",
       "2      9   2008        WD         Normal     223500  \n",
       "3      2   2006        WD        Abnorml     140000  \n",
       "4     12   2008        WD         Normal     250000  \n",
       "\n",
       "[5 rows x 81 columns]"
      ]
     },
     "execution_count": 19,
     "metadata": {},
     "output_type": "execute_result"
    }
   ],
   "source": [
    "train.head()"
   ]
  },
  {
   "cell_type": "code",
   "execution_count": 20,
   "metadata": {},
   "outputs": [
    {
     "data": {
      "text/plain": [
       "Grvl    50\n",
       "Pave    41\n",
       "Name: Alley, dtype: int64"
      ]
     },
     "execution_count": 20,
     "metadata": {},
     "output_type": "execute_result"
    }
   ],
   "source": [
    "train.Alley.value_counts()"
   ]
  },
  {
   "cell_type": "code",
   "execution_count": 21,
   "metadata": {},
   "outputs": [
    {
     "data": {
      "text/plain": [
       "Gd    3\n",
       "Ex    2\n",
       "Fa    2\n",
       "Name: PoolQC, dtype: int64"
      ]
     },
     "execution_count": 21,
     "metadata": {},
     "output_type": "execute_result"
    }
   ],
   "source": [
    "train.PoolQC.value_counts()"
   ]
  },
  {
   "cell_type": "code",
   "execution_count": 22,
   "metadata": {},
   "outputs": [
    {
     "data": {
      "text/plain": [
       "Shed    49\n",
       "Othr     2\n",
       "Gar2     2\n",
       "TenC     1\n",
       "Name: MiscFeature, dtype: int64"
      ]
     },
     "execution_count": 22,
     "metadata": {},
     "output_type": "execute_result"
    }
   ],
   "source": [
    "train.MiscFeature.value_counts()"
   ]
  },
  {
   "cell_type": "code",
   "execution_count": 23,
   "metadata": {},
   "outputs": [],
   "source": [
    "# delete alley,poolqc and miscfeature in both train and test"
   ]
  },
  {
   "cell_type": "code",
   "execution_count": 24,
   "metadata": {},
   "outputs": [],
   "source": [
    "#fence is also having very less values"
   ]
  },
  {
   "cell_type": "code",
   "execution_count": 25,
   "metadata": {},
   "outputs": [
    {
     "data": {
      "text/plain": [
       "0.19246575342465752"
      ]
     },
     "execution_count": 25,
     "metadata": {},
     "output_type": "execute_result"
    }
   ],
   "source": [
    "sum(train.Fence.value_counts())/1460"
   ]
  },
  {
   "cell_type": "code",
   "execution_count": 26,
   "metadata": {},
   "outputs": [
    {
     "data": {
      "text/plain": [
       "MnPrv    157\n",
       "GdPrv     59\n",
       "GdWo      54\n",
       "MnWw      11\n",
       "Name: Fence, dtype: int64"
      ]
     },
     "execution_count": 26,
     "metadata": {},
     "output_type": "execute_result"
    }
   ],
   "source": [
    "train.Fence.value_counts()"
   ]
  },
  {
   "cell_type": "code",
   "execution_count": 27,
   "metadata": {},
   "outputs": [
    {
     "data": {
      "text/plain": [
       "count       157.000000\n",
       "mean     148751.089172\n",
       "std       66096.069463\n",
       "min       40000.000000\n",
       "25%      119900.000000\n",
       "50%      137450.000000\n",
       "75%      158000.000000\n",
       "max      745000.000000\n",
       "Name: SalePrice, dtype: float64"
      ]
     },
     "execution_count": 27,
     "metadata": {},
     "output_type": "execute_result"
    }
   ],
   "source": [
    "train[train.Fence=='MnPrv']['SalePrice'].describe()"
   ]
  },
  {
   "cell_type": "code",
   "execution_count": 28,
   "metadata": {},
   "outputs": [
    {
     "data": {
      "text/plain": [
       "count        59.000000\n",
       "mean     178927.457627\n",
       "std       56757.237563\n",
       "min      108000.000000\n",
       "25%      144950.000000\n",
       "50%      167500.000000\n",
       "75%      189475.000000\n",
       "max      475000.000000\n",
       "Name: SalePrice, dtype: float64"
      ]
     },
     "execution_count": 28,
     "metadata": {},
     "output_type": "execute_result"
    }
   ],
   "source": [
    "train[train.Fence=='GdPrv']['SalePrice'].describe()"
   ]
  },
  {
   "cell_type": "code",
   "execution_count": 29,
   "metadata": {},
   "outputs": [
    {
     "data": {
      "text/plain": [
       "count        54.000000\n",
       "mean     140379.314815\n",
       "std       53592.585059\n",
       "min       34900.000000\n",
       "25%      118625.000000\n",
       "50%      138750.000000\n",
       "75%      151750.000000\n",
       "max      381000.000000\n",
       "Name: SalePrice, dtype: float64"
      ]
     },
     "execution_count": 29,
     "metadata": {},
     "output_type": "execute_result"
    }
   ],
   "source": [
    "train[train.Fence=='GdWo']['SalePrice'].describe()"
   ]
  },
  {
   "cell_type": "code",
   "execution_count": 30,
   "metadata": {},
   "outputs": [
    {
     "data": {
      "text/plain": [
       "count        11.000000\n",
       "mean     134286.363636\n",
       "std       21781.805376\n",
       "min      110000.000000\n",
       "25%      121500.000000\n",
       "50%      130000.000000\n",
       "75%      143000.000000\n",
       "max      187000.000000\n",
       "Name: SalePrice, dtype: float64"
      ]
     },
     "execution_count": 30,
     "metadata": {},
     "output_type": "execute_result"
    }
   ],
   "source": [
    "train[train.Fence=='MnWw']['SalePrice'].describe()"
   ]
  },
  {
   "cell_type": "code",
   "execution_count": 31,
   "metadata": {},
   "outputs": [
    {
     "data": {
      "text/plain": [
       "count        50.000000\n",
       "mean     122219.080000\n",
       "std       34780.780734\n",
       "min       52500.000000\n",
       "25%      105312.500000\n",
       "50%      119500.000000\n",
       "75%      136750.000000\n",
       "max      256000.000000\n",
       "Name: SalePrice, dtype: float64"
      ]
     },
     "execution_count": 31,
     "metadata": {},
     "output_type": "execute_result"
    }
   ],
   "source": [
    "train[train.Alley=='Grvl']['SalePrice'].describe()"
   ]
  },
  {
   "cell_type": "code",
   "execution_count": 32,
   "metadata": {},
   "outputs": [
    {
     "data": {
      "text/plain": [
       "count        41.000000\n",
       "mean     168000.585366\n",
       "std       38370.375243\n",
       "min       40000.000000\n",
       "25%      151000.000000\n",
       "50%      172500.000000\n",
       "75%      185000.000000\n",
       "max      265979.000000\n",
       "Name: SalePrice, dtype: float64"
      ]
     },
     "execution_count": 32,
     "metadata": {},
     "output_type": "execute_result"
    }
   ],
   "source": [
    "train[train.Alley=='Pave']['SalePrice'].describe()"
   ]
  },
  {
   "cell_type": "code",
   "execution_count": 33,
   "metadata": {},
   "outputs": [
    {
     "data": {
      "text/plain": [
       "2006    67\n",
       "2005    64\n",
       "2004    54\n",
       "2007    49\n",
       "2003    45\n",
       "1976    33\n",
       "1977    32\n",
       "1920    30\n",
       "1959    26\n",
       "1999    25\n",
       "1998    25\n",
       "1958    24\n",
       "1965    24\n",
       "1970    24\n",
       "1954    24\n",
       "2000    24\n",
       "2002    23\n",
       "2008    23\n",
       "1972    23\n",
       "1968    22\n",
       "1971    22\n",
       "1950    20\n",
       "2001    20\n",
       "1957    20\n",
       "1962    19\n",
       "1994    19\n",
       "1966    18\n",
       "2009    18\n",
       "1995    18\n",
       "1940    18\n",
       "        ..\n",
       "1986     5\n",
       "1952     5\n",
       "1880     4\n",
       "1929     4\n",
       "1932     4\n",
       "1938     4\n",
       "1983     4\n",
       "1927     3\n",
       "1919     3\n",
       "1934     3\n",
       "1989     3\n",
       "1987     3\n",
       "1912     3\n",
       "1885     2\n",
       "1892     2\n",
       "1890     2\n",
       "1942     2\n",
       "1908     2\n",
       "1882     1\n",
       "1875     1\n",
       "1893     1\n",
       "2010     1\n",
       "1898     1\n",
       "1904     1\n",
       "1905     1\n",
       "1906     1\n",
       "1911     1\n",
       "1913     1\n",
       "1917     1\n",
       "1872     1\n",
       "Name: YearBuilt, Length: 112, dtype: int64"
      ]
     },
     "execution_count": 33,
     "metadata": {},
     "output_type": "execute_result"
    }
   ],
   "source": [
    "train['YearBuilt'].value_counts()"
   ]
  },
  {
   "cell_type": "code",
   "execution_count": 34,
   "metadata": {},
   "outputs": [],
   "source": [
    "#imputing the missing balues with median   #for numerical columns\n",
    "train.fillna(train.median(),inplace=True)\n",
    "test.fillna(test.median(),inplace=True)"
   ]
  },
  {
   "cell_type": "code",
   "execution_count": 35,
   "metadata": {},
   "outputs": [
    {
     "data": {
      "text/plain": [
       "Id                  0\n",
       "MSSubClass          0\n",
       "MSZoning            0\n",
       "LotFrontage         0\n",
       "LotArea             0\n",
       "Street              0\n",
       "Alley            1369\n",
       "LotShape            0\n",
       "LandContour         0\n",
       "Utilities           0\n",
       "LotConfig           0\n",
       "LandSlope           0\n",
       "Neighborhood        0\n",
       "Condition1          0\n",
       "Condition2          0\n",
       "BldgType            0\n",
       "HouseStyle          0\n",
       "OverallQual         0\n",
       "OverallCond         0\n",
       "YearBuilt           0\n",
       "YearRemodAdd        0\n",
       "RoofStyle           0\n",
       "RoofMatl            0\n",
       "Exterior1st         0\n",
       "Exterior2nd         0\n",
       "MasVnrType          8\n",
       "MasVnrArea          0\n",
       "ExterQual           0\n",
       "ExterCond           0\n",
       "Foundation          0\n",
       "                 ... \n",
       "BedroomAbvGr        0\n",
       "KitchenAbvGr        0\n",
       "KitchenQual         0\n",
       "TotRmsAbvGrd        0\n",
       "Functional          0\n",
       "Fireplaces          0\n",
       "FireplaceQu       690\n",
       "GarageType         81\n",
       "GarageYrBlt         0\n",
       "GarageFinish       81\n",
       "GarageCars          0\n",
       "GarageArea          0\n",
       "GarageQual         81\n",
       "GarageCond         81\n",
       "PavedDrive          0\n",
       "WoodDeckSF          0\n",
       "OpenPorchSF         0\n",
       "EnclosedPorch       0\n",
       "3SsnPorch           0\n",
       "ScreenPorch         0\n",
       "PoolArea            0\n",
       "PoolQC           1453\n",
       "Fence            1179\n",
       "MiscFeature      1406\n",
       "MiscVal             0\n",
       "MoSold              0\n",
       "YrSold              0\n",
       "SaleType            0\n",
       "SaleCondition       0\n",
       "SalePrice           0\n",
       "Length: 81, dtype: int64"
      ]
     },
     "execution_count": 35,
     "metadata": {},
     "output_type": "execute_result"
    }
   ],
   "source": [
    "train.isnull().sum()"
   ]
  },
  {
   "cell_type": "code",
   "execution_count": 36,
   "metadata": {},
   "outputs": [
    {
     "data": {
      "text/plain": [
       "<matplotlib.axes._subplots.AxesSubplot at 0xc408be0>"
      ]
     },
     "execution_count": 36,
     "metadata": {},
     "output_type": "execute_result"
    },
    {
     "data": {
      "image/png": "[encoded data removed]",
      "text/plain": [
       "<Figure size 720x576 with 1 Axes>"
      ]
     },
     "metadata": {
      "needs_background": "light"
     },
     "output_type": "display_data"
    }
   ],
   "source": [
    "plt.figure(figsize=[10,8])\n",
    "sns.boxplot(x='YearBuilt',y='SalePrice',data=train,hue='Alley')"
   ]
  },
  {
   "cell_type": "code",
   "execution_count": 37,
   "metadata": {},
   "outputs": [
    {
     "data": {
      "text/plain": [
       "<matplotlib.axes._subplots.AxesSubplot at 0xe7e6f98>"
      ]
     },
     "execution_count": 37,
     "metadata": {},
     "output_type": "execute_result"
    },
    {
     "data": {
      "image/png": "[encoded data removed]",
      "text/plain": [
       "<Figure size 720x720 with 1 Axes>"
      ]
     },
     "metadata": {
      "needs_background": "light"
     },
     "output_type": "display_data"
    }
   ],
   "source": [
    "plt.figure(figsize=[10,10])\n",
    "sns.boxplot(x='YearBuilt',y='SalePrice',data=train[train.YearBuilt>1992],hue='Alley')"
   ]
  },
  {
   "cell_type": "code",
   "execution_count": 38,
   "metadata": {},
   "outputs": [],
   "source": [
    "#from this we can infer that after 1993 there is only pave alley"
   ]
  },
  {
   "cell_type": "code",
   "execution_count": 39,
   "metadata": {},
   "outputs": [],
   "source": [
    "#imputing Alley as Pave"
   ]
  },
  {
   "cell_type": "code",
   "execution_count": 40,
   "metadata": {},
   "outputs": [
    {
     "data": {
      "text/plain": [
       "Grvl    50\n",
       "Pave    41\n",
       "Name: Alley, dtype: int64"
      ]
     },
     "execution_count": 40,
     "metadata": {},
     "output_type": "execute_result"
    }
   ],
   "source": [
    "train.Alley.value_counts() #disaster its not working"
   ]
  },
  {
   "cell_type": "code",
   "execution_count": 41,
   "metadata": {},
   "outputs": [],
   "source": [
    "train.loc[train.YearBuilt>1999,\"Alley\"] =train.loc[train.YearBuilt>1999,\"Alley\"].fillna('Pave')"
   ]
  },
  {
   "cell_type": "code",
   "execution_count": 42,
   "metadata": {},
   "outputs": [],
   "source": [
    "train.loc[train.YearBuilt<=1999,\"Alley\"] =train.loc[train.YearBuilt<=1999,\"Alley\"].fillna('Grvl')"
   ]
  },
  {
   "cell_type": "code",
   "execution_count": 43,
   "metadata": {},
   "outputs": [
    {
     "data": {
      "text/plain": [
       "Grvl    1048\n",
       "Pave     412\n",
       "Name: Alley, dtype: int64"
      ]
     },
     "execution_count": 43,
     "metadata": {},
     "output_type": "execute_result"
    }
   ],
   "source": [
    "train.Alley.value_counts()"
   ]
  },
  {
   "cell_type": "code",
   "execution_count": 44,
   "metadata": {},
   "outputs": [],
   "source": [
    "test.loc[test.YearBuilt>1999,\"Alley\"] =test.loc[test.YearBuilt>1999,\"Alley\"].fillna('Pave')"
   ]
  },
  {
   "cell_type": "code",
   "execution_count": 45,
   "metadata": {},
   "outputs": [],
   "source": [
    "test.loc[test.YearBuilt<=1999,\"Alley\"] =test.loc[test.YearBuilt<=1999,\"Alley\"].fillna('Pave')"
   ]
  },
  {
   "cell_type": "code",
   "execution_count": 46,
   "metadata": {},
   "outputs": [
    {
     "data": {
      "text/plain": [
       "Pave    1389\n",
       "Grvl      70\n",
       "Name: Alley, dtype: int64"
      ]
     },
     "execution_count": 46,
     "metadata": {},
     "output_type": "execute_result"
    }
   ],
   "source": [
    "test.Alley.value_counts()"
   ]
  },
  {
   "cell_type": "code",
   "execution_count": 47,
   "metadata": {},
   "outputs": [],
   "source": [
    "###########"
   ]
  },
  {
   "cell_type": "code",
   "execution_count": 48,
   "metadata": {},
   "outputs": [],
   "source": [
    "#FireplaceQu,GarageCond,GarageQual,GarageType GarageFinish"
   ]
  },
  {
   "cell_type": "code",
   "execution_count": 49,
   "metadata": {},
   "outputs": [
    {
     "data": {
      "text/plain": [
       "Gd    380\n",
       "TA    313\n",
       "Fa     33\n",
       "Ex     24\n",
       "Po     20\n",
       "Name: FireplaceQu, dtype: int64"
      ]
     },
     "execution_count": 49,
     "metadata": {},
     "output_type": "execute_result"
    }
   ],
   "source": [
    "train.FireplaceQu.value_counts() #check gd,ta,fa,ex,po"
   ]
  },
  {
   "cell_type": "code",
   "execution_count": 50,
   "metadata": {},
   "outputs": [],
   "source": [
    "#impute gd in fireplaceQu\n",
    "train.FireplaceQu.fillna('Gd',inplace=True)\n",
    "test.FireplaceQu.fillna('Gd',inplace=True)"
   ]
  },
  {
   "cell_type": "code",
   "execution_count": 51,
   "metadata": {},
   "outputs": [
    {
     "data": {
      "text/plain": [
       "Attchd     870\n",
       "Detchd     387\n",
       "BuiltIn     88\n",
       "Basment     19\n",
       "CarPort      9\n",
       "2Types       6\n",
       "Name: GarageType, dtype: int64"
      ]
     },
     "execution_count": 51,
     "metadata": {},
     "output_type": "execute_result"
    }
   ],
   "source": [
    "train.GarageType.value_counts() "
   ]
  },
  {
   "cell_type": "code",
   "execution_count": 52,
   "metadata": {},
   "outputs": [
    {
     "data": {
      "text/plain": [
       "<matplotlib.axes._subplots.AxesSubplot at 0xe674e10>"
      ]
     },
     "execution_count": 52,
     "metadata": {},
     "output_type": "execute_result"
    },
    {
     "data": {
      "image/png": "[encoded data removed]",
      "text/plain": [
       "<Figure size 720x720 with 1 Axes>"
      ]
     },
     "metadata": {
      "needs_background": "light"
     },
     "output_type": "display_data"
    }
   ],
   "source": [
    "plt.figure(figsize=[10,10])\n",
    "sns.boxplot(x='GarageType',y='SalePrice',data=train)"
   ]
  },
  {
   "cell_type": "code",
   "execution_count": 53,
   "metadata": {},
   "outputs": [
    {
     "data": {
      "text/plain": [
       "count       387.000000\n",
       "mean     134091.162791\n",
       "std       41391.549953\n",
       "min       35311.000000\n",
       "25%      110000.000000\n",
       "50%      129500.000000\n",
       "75%      147700.000000\n",
       "max      475000.000000\n",
       "Name: SalePrice, dtype: float64"
      ]
     },
     "execution_count": 53,
     "metadata": {},
     "output_type": "execute_result"
    }
   ],
   "source": [
    "train[train.GarageType=='Detchd']['SalePrice'].describe()"
   ]
  },
  {
   "cell_type": "code",
   "execution_count": 54,
   "metadata": {},
   "outputs": [],
   "source": [
    "#impute attached in garage type"
   ]
  },
  {
   "cell_type": "code",
   "execution_count": 55,
   "metadata": {},
   "outputs": [],
   "source": [
    "train.GarageType.fillna('Attchd',inplace=True)\n",
    "test.GarageType.fillna('Attchd',inplace=True)"
   ]
  },
  {
   "cell_type": "code",
   "execution_count": 56,
   "metadata": {},
   "outputs": [
    {
     "data": {
      "text/plain": [
       "Unf    605\n",
       "RFn    422\n",
       "Fin    352\n",
       "Name: GarageFinish, dtype: int64"
      ]
     },
     "execution_count": 56,
     "metadata": {},
     "output_type": "execute_result"
    }
   ],
   "source": [
    "#impute in GarageFinish\n",
    "train.GarageFinish.value_counts()"
   ]
  },
  {
   "cell_type": "code",
   "execution_count": 57,
   "metadata": {},
   "outputs": [],
   "source": [
    "train.GarageFinish.fillna('Unf',inplace=True)\n",
    "test.GarageFinish.fillna('Unf',inplace=True)"
   ]
  },
  {
   "cell_type": "code",
   "execution_count": 58,
   "metadata": {},
   "outputs": [
    {
     "data": {
      "text/plain": [
       "TA    1311\n",
       "Fa      48\n",
       "Gd      14\n",
       "Ex       3\n",
       "Po       3\n",
       "Name: GarageQual, dtype: int64"
      ]
     },
     "execution_count": 58,
     "metadata": {},
     "output_type": "execute_result"
    }
   ],
   "source": [
    "#impute in GarageQual\n",
    "train.GarageQual.value_counts()"
   ]
  },
  {
   "cell_type": "code",
   "execution_count": 59,
   "metadata": {},
   "outputs": [],
   "source": [
    "train.GarageQual.fillna('TA',inplace=True)\n",
    "test.GarageQual.fillna('TA',inplace=True)"
   ]
  },
  {
   "cell_type": "code",
   "execution_count": 60,
   "metadata": {},
   "outputs": [
    {
     "data": {
      "text/plain": [
       "TA    1326\n",
       "Fa      35\n",
       "Gd       9\n",
       "Po       7\n",
       "Ex       2\n",
       "Name: GarageCond, dtype: int64"
      ]
     },
     "execution_count": 60,
     "metadata": {},
     "output_type": "execute_result"
    }
   ],
   "source": [
    "#impute in GarageCond\n",
    "train.GarageCond.value_counts()"
   ]
  },
  {
   "cell_type": "code",
   "execution_count": 61,
   "metadata": {},
   "outputs": [],
   "source": [
    "train.GarageCond.fillna('TA',inplace=True)\n",
    "test.GarageCond.fillna('TA',inplace=True)"
   ]
  },
  {
   "cell_type": "code",
   "execution_count": 62,
   "metadata": {},
   "outputs": [
    {
     "data": {
      "text/plain": [
       "Id                  0\n",
       "MSSubClass          0\n",
       "MSZoning            0\n",
       "LotFrontage         0\n",
       "LotArea             0\n",
       "Street              0\n",
       "Alley               0\n",
       "LotShape            0\n",
       "LandContour         0\n",
       "Utilities           0\n",
       "LotConfig           0\n",
       "LandSlope           0\n",
       "Neighborhood        0\n",
       "Condition1          0\n",
       "Condition2          0\n",
       "BldgType            0\n",
       "HouseStyle          0\n",
       "OverallQual         0\n",
       "OverallCond         0\n",
       "YearBuilt           0\n",
       "YearRemodAdd        0\n",
       "RoofStyle           0\n",
       "RoofMatl            0\n",
       "Exterior1st         0\n",
       "Exterior2nd         0\n",
       "MasVnrType          8\n",
       "MasVnrArea          0\n",
       "ExterQual           0\n",
       "ExterCond           0\n",
       "Foundation          0\n",
       "                 ... \n",
       "BedroomAbvGr        0\n",
       "KitchenAbvGr        0\n",
       "KitchenQual         0\n",
       "TotRmsAbvGrd        0\n",
       "Functional          0\n",
       "Fireplaces          0\n",
       "FireplaceQu         0\n",
       "GarageType          0\n",
       "GarageYrBlt         0\n",
       "GarageFinish        0\n",
       "GarageCars          0\n",
       "GarageArea          0\n",
       "GarageQual          0\n",
       "GarageCond          0\n",
       "PavedDrive          0\n",
       "WoodDeckSF          0\n",
       "OpenPorchSF         0\n",
       "EnclosedPorch       0\n",
       "3SsnPorch           0\n",
       "ScreenPorch         0\n",
       "PoolArea            0\n",
       "PoolQC           1453\n",
       "Fence            1179\n",
       "MiscFeature      1406\n",
       "MiscVal             0\n",
       "MoSold              0\n",
       "YrSold              0\n",
       "SaleType            0\n",
       "SaleCondition       0\n",
       "SalePrice           0\n",
       "Length: 81, dtype: int64"
      ]
     },
     "execution_count": 62,
     "metadata": {},
     "output_type": "execute_result"
    }
   ],
   "source": [
    "train.isnull().sum()"
   ]
  },
  {
   "cell_type": "code",
   "execution_count": 63,
   "metadata": {},
   "outputs": [],
   "source": [
    "newtrain=train.drop(['PoolQC','Fence','MiscFeature','Id'],axis=1)\n",
    "newtest=test.drop(['PoolQC','Fence','MiscFeature','Id'],axis=1)"
   ]
  },
  {
   "cell_type": "code",
   "execution_count": 64,
   "metadata": {},
   "outputs": [],
   "source": [
    "#make sure train and test dimension matches"
   ]
  },
  {
   "cell_type": "code",
   "execution_count": 65,
   "metadata": {},
   "outputs": [
    {
     "data": {
      "text/plain": [
       "(1459, 76)"
      ]
     },
     "execution_count": 65,
     "metadata": {},
     "output_type": "execute_result"
    }
   ],
   "source": [
    "newtest.shape"
   ]
  },
  {
   "cell_type": "code",
   "execution_count": 66,
   "metadata": {},
   "outputs": [
    {
     "data": {
      "text/plain": [
       "(1460, 77)"
      ]
     },
     "execution_count": 66,
     "metadata": {},
     "output_type": "execute_result"
    }
   ],
   "source": [
    "newtrain.shape"
   ]
  },
  {
   "cell_type": "code",
   "execution_count": 67,
   "metadata": {},
   "outputs": [
    {
     "data": {
      "text/plain": [
       "<matplotlib.axes._subplots.AxesSubplot at 0xe74d4a8>"
      ]
     },
     "execution_count": 67,
     "metadata": {},
     "output_type": "execute_result"
    },
    {
     "data": {
      "image/png": "[encoded data removed]",
      "text/plain": [
       "<Figure size 432x288 with 2 Axes>"
      ]
     },
     "metadata": {
      "needs_background": "light"
     },
     "output_type": "display_data"
    }
   ],
   "source": [
    "sns.heatmap(newtrain.isnull())"
   ]
  },
  {
   "cell_type": "code",
   "execution_count": 68,
   "metadata": {},
   "outputs": [
    {
     "data": {
      "text/plain": [
       "None       864\n",
       "BrkFace    445\n",
       "Stone      128\n",
       "BrkCmn      15\n",
       "Name: MasVnrType, dtype: int64"
      ]
     },
     "execution_count": 68,
     "metadata": {},
     "output_type": "execute_result"
    }
   ],
   "source": [
    "train.MasVnrType.value_counts()"
   ]
  },
  {
   "cell_type": "code",
   "execution_count": 69,
   "metadata": {},
   "outputs": [
    {
     "data": {
      "text/plain": [
       "8"
      ]
     },
     "execution_count": 69,
     "metadata": {},
     "output_type": "execute_result"
    }
   ],
   "source": [
    "train.MasVnrType.isnull().sum()"
   ]
  },
  {
   "cell_type": "code",
   "execution_count": 70,
   "metadata": {},
   "outputs": [],
   "source": [
    "newtrain.MasVnrType.fillna('None',inplace=True)\n",
    "newtest.MasVnrType.fillna('None',inplace=True)"
   ]
  },
  {
   "cell_type": "code",
   "execution_count": 71,
   "metadata": {},
   "outputs": [
    {
     "data": {
      "text/plain": [
       "37"
      ]
     },
     "execution_count": 71,
     "metadata": {},
     "output_type": "execute_result"
    }
   ],
   "source": [
    "newtrain.BsmtCond.isnull().sum()"
   ]
  },
  {
   "cell_type": "code",
   "execution_count": 72,
   "metadata": {},
   "outputs": [
    {
     "data": {
      "text/plain": [
       "TA    1311\n",
       "Gd      65\n",
       "Fa      45\n",
       "Po       2\n",
       "Name: BsmtCond, dtype: int64"
      ]
     },
     "execution_count": 72,
     "metadata": {},
     "output_type": "execute_result"
    }
   ],
   "source": [
    "newtrain.BsmtCond.value_counts()"
   ]
  },
  {
   "cell_type": "code",
   "execution_count": 73,
   "metadata": {},
   "outputs": [],
   "source": [
    "newtrain.BsmtCond.fillna('TA',inplace=True)\n",
    "newtest.BsmtCond.fillna('TA',inplace=True)"
   ]
  },
  {
   "cell_type": "code",
   "execution_count": 74,
   "metadata": {},
   "outputs": [
    {
     "data": {
      "text/plain": [
       "TA    649\n",
       "Gd    618\n",
       "Ex    121\n",
       "Fa     35\n",
       "Name: BsmtQual, dtype: int64"
      ]
     },
     "execution_count": 74,
     "metadata": {},
     "output_type": "execute_result"
    }
   ],
   "source": [
    "newtrain.BsmtQual.value_counts()"
   ]
  },
  {
   "cell_type": "code",
   "execution_count": 75,
   "metadata": {},
   "outputs": [],
   "source": [
    "newtrain.BsmtQual.fillna('TA',inplace=True)\n",
    "newtest.BsmtQual.fillna('TA',inplace=True)"
   ]
  },
  {
   "cell_type": "code",
   "execution_count": 76,
   "metadata": {},
   "outputs": [],
   "source": [
    "newtrain.BsmtFinType1.fillna('Unf',inplace=True)\n",
    "newtest.BsmtFinType1.fillna('Unf',inplace=True)"
   ]
  },
  {
   "cell_type": "code",
   "execution_count": 77,
   "metadata": {},
   "outputs": [],
   "source": [
    "newtrain.BsmtFinType2.fillna('Unf',inplace=True)\n",
    "newtest.BsmtFinType2.fillna('Unf',inplace=True)"
   ]
  },
  {
   "cell_type": "code",
   "execution_count": 78,
   "metadata": {},
   "outputs": [],
   "source": [
    "newtrain.Electrical.fillna('SBrkr',inplace=True)\n",
    "newtest.Electrical.fillna('SBrkr',inplace=True)"
   ]
  },
  {
   "cell_type": "code",
   "execution_count": 79,
   "metadata": {},
   "outputs": [],
   "source": [
    "newtrain.BsmtExposure.fillna('No',inplace=True)\n",
    "newtest.BsmtExposure.fillna('No',inplace=True)\n"
   ]
  },
  {
   "cell_type": "code",
   "execution_count": 80,
   "metadata": {},
   "outputs": [
    {
     "data": {
      "text/plain": [
       "No    991\n",
       "Av    221\n",
       "Gd    134\n",
       "Mn    114\n",
       "Name: BsmtExposure, dtype: int64"
      ]
     },
     "execution_count": 80,
     "metadata": {},
     "output_type": "execute_result"
    }
   ],
   "source": [
    "newtrain.BsmtExposure.value_counts()"
   ]
  },
  {
   "cell_type": "code",
   "execution_count": 81,
   "metadata": {},
   "outputs": [
    {
     "data": {
      "text/plain": [
       "0"
      ]
     },
     "execution_count": 81,
     "metadata": {},
     "output_type": "execute_result"
    }
   ],
   "source": [
    "sum(newtrain.isnull().sum())"
   ]
  },
  {
   "cell_type": "code",
   "execution_count": 82,
   "metadata": {},
   "outputs": [
    {
     "data": {
      "text/plain": [
       "12"
      ]
     },
     "execution_count": 82,
     "metadata": {},
     "output_type": "execute_result"
    }
   ],
   "source": [
    "sum(newtest.isnull().sum())"
   ]
  },
  {
   "cell_type": "code",
   "execution_count": 83,
   "metadata": {},
   "outputs": [
    {
     "data": {
      "text/plain": [
       "MSSubClass       0\n",
       "MSZoning         4\n",
       "LotFrontage      0\n",
       "LotArea          0\n",
       "Street           0\n",
       "Alley            0\n",
       "LotShape         0\n",
       "LandContour      0\n",
       "Utilities        2\n",
       "LotConfig        0\n",
       "LandSlope        0\n",
       "Neighborhood     0\n",
       "Condition1       0\n",
       "Condition2       0\n",
       "BldgType         0\n",
       "HouseStyle       0\n",
       "OverallQual      0\n",
       "OverallCond      0\n",
       "YearBuilt        0\n",
       "YearRemodAdd     0\n",
       "RoofStyle        0\n",
       "RoofMatl         0\n",
       "Exterior1st      1\n",
       "Exterior2nd      1\n",
       "MasVnrType       0\n",
       "MasVnrArea       0\n",
       "ExterQual        0\n",
       "ExterCond        0\n",
       "Foundation       0\n",
       "BsmtQual         0\n",
       "                ..\n",
       "BsmtFullBath     0\n",
       "BsmtHalfBath     0\n",
       "FullBath         0\n",
       "HalfBath         0\n",
       "BedroomAbvGr     0\n",
       "KitchenAbvGr     0\n",
       "KitchenQual      1\n",
       "TotRmsAbvGrd     0\n",
       "Functional       2\n",
       "Fireplaces       0\n",
       "FireplaceQu      0\n",
       "GarageType       0\n",
       "GarageYrBlt      0\n",
       "GarageFinish     0\n",
       "GarageCars       0\n",
       "GarageArea       0\n",
       "GarageQual       0\n",
       "GarageCond       0\n",
       "PavedDrive       0\n",
       "WoodDeckSF       0\n",
       "OpenPorchSF      0\n",
       "EnclosedPorch    0\n",
       "3SsnPorch        0\n",
       "ScreenPorch      0\n",
       "PoolArea         0\n",
       "MiscVal          0\n",
       "MoSold           0\n",
       "YrSold           0\n",
       "SaleType         1\n",
       "SaleCondition    0\n",
       "Length: 76, dtype: int64"
      ]
     },
     "execution_count": 83,
     "metadata": {},
     "output_type": "execute_result"
    }
   ],
   "source": [
    "newtest.isnull().sum()"
   ]
  },
  {
   "cell_type": "code",
   "execution_count": 84,
   "metadata": {},
   "outputs": [],
   "source": [
    "newtest.SaleType.fillna('WD',inplace=True)"
   ]
  },
  {
   "cell_type": "code",
   "execution_count": 85,
   "metadata": {},
   "outputs": [],
   "source": [
    "newtest.Exterior1st.fillna('VinylSd',inplace=True)"
   ]
  },
  {
   "cell_type": "code",
   "execution_count": 86,
   "metadata": {},
   "outputs": [],
   "source": [
    "newtest.Exterior2nd.fillna('VinylSd',inplace=True)"
   ]
  },
  {
   "cell_type": "code",
   "execution_count": 87,
   "metadata": {},
   "outputs": [],
   "source": [
    "newtest.Functional.fillna('Typ',inplace=True)"
   ]
  },
  {
   "cell_type": "code",
   "execution_count": 88,
   "metadata": {},
   "outputs": [],
   "source": [
    "newtest.KitchenQual.fillna('TA',inplace=True)"
   ]
  },
  {
   "cell_type": "code",
   "execution_count": 89,
   "metadata": {},
   "outputs": [
    {
     "data": {
      "text/plain": [
       "TA    758\n",
       "Gd    565\n",
       "Ex    105\n",
       "Fa     31\n",
       "Name: KitchenQual, dtype: int64"
      ]
     },
     "execution_count": 89,
     "metadata": {},
     "output_type": "execute_result"
    }
   ],
   "source": [
    "newtest.KitchenQual.value_counts()"
   ]
  },
  {
   "cell_type": "code",
   "execution_count": 90,
   "metadata": {},
   "outputs": [],
   "source": [
    "newtest.MSZoning.fillna('RL',inplace=True)"
   ]
  },
  {
   "cell_type": "code",
   "execution_count": 91,
   "metadata": {},
   "outputs": [],
   "source": [
    "newtest.Utilities.fillna('AllPub',inplace=True)"
   ]
  },
  {
   "cell_type": "code",
   "execution_count": 92,
   "metadata": {},
   "outputs": [],
   "source": [
    "#getdummies,scale, pca, no of components,120 components, "
   ]
  },
  {
   "cell_type": "markdown",
   "metadata": {},
   "source": [
    "# apply standard scalar and PCA"
   ]
  },
  {
   "cell_type": "code",
   "execution_count": 93,
   "metadata": {},
   "outputs": [],
   "source": [
    "sc=StandardScaler()"
   ]
  },
  {
   "cell_type": "code",
   "execution_count": 94,
   "metadata": {},
   "outputs": [],
   "source": [
    "newtrain_dummy=pd.get_dummies(newtrain)\n",
    "newtest_dummy=pd.get_dummies(newtest)"
   ]
  },
  {
   "cell_type": "code",
   "execution_count": 95,
   "metadata": {},
   "outputs": [
    {
     "name": "stdout",
     "output_type": "stream",
     "text": [
      "(1460, 278)\n",
      "(1459, 261)\n"
     ]
    }
   ],
   "source": [
    "print(newtrain_dummy.shape)\n",
    "print(newtest_dummy.shape)"
   ]
  },
  {
   "cell_type": "code",
   "execution_count": 96,
   "metadata": {},
   "outputs": [
    {
     "name": "stderr",
     "output_type": "stream",
     "text": [
      "C:\\Users\\Ashok\\Anaconda3\\lib\\site-packages\\sklearn\\preprocessing\\data.py:625: DataConversionWarning: Data with input dtype uint8, int64, float64 were all converted to float64 by StandardScaler.\n",
      "  return self.partial_fit(X, y)\n",
      "C:\\Users\\Ashok\\Anaconda3\\lib\\site-packages\\sklearn\\base.py:462: DataConversionWarning: Data with input dtype uint8, int64, float64 were all converted to float64 by StandardScaler.\n",
      "  return self.fit(X, **fit_params).transform(X)\n",
      "C:\\Users\\Ashok\\Anaconda3\\lib\\site-packages\\sklearn\\preprocessing\\data.py:625: DataConversionWarning: Data with input dtype uint8, int64, float64 were all converted to float64 by StandardScaler.\n",
      "  return self.partial_fit(X, y)\n",
      "C:\\Users\\Ashok\\Anaconda3\\lib\\site-packages\\sklearn\\base.py:462: DataConversionWarning: Data with input dtype uint8, int64, float64 were all converted to float64 by StandardScaler.\n",
      "  return self.fit(X, **fit_params).transform(X)\n"
     ]
    }
   ],
   "source": [
    "#scaling the Dataset\n",
    "scaletrain=sc.fit_transform(newtrain_dummy)\n",
    "scaletest=sc.fit_transform(newtest_dummy)"
   ]
  },
  {
   "cell_type": "code",
   "execution_count": 97,
   "metadata": {},
   "outputs": [],
   "source": [
    "scaletrain_df=pd.DataFrame(scaletrain,columns=newtrain_dummy.columns)"
   ]
  },
  {
   "cell_type": "code",
   "execution_count": 98,
   "metadata": {},
   "outputs": [],
   "source": [
    "scaletest_df=pd.DataFrame(scaletest,columns=newtest_dummy.columns)"
   ]
  },
  {
   "cell_type": "code",
   "execution_count": 99,
   "metadata": {},
   "outputs": [
    {
     "data": {
      "text/html": [
       "<div>\n",
       "<style scoped>\n",
       "    .dataframe tbody tr th:only-of-type {\n",
       "        vertical-align: middle;\n",
       "    }\n",
       "\n",
       "    .dataframe tbody tr th {\n",
       "        vertical-align: top;\n",
       "    }\n",
       "\n",
       "    .dataframe thead th {\n",
       "        text-align: right;\n",
       "    }\n",
       "</style>\n",
       "<table border=\"1\" class=\"dataframe\">\n",
       "  <thead>\n",
       "    <tr style=\"text-align: right;\">\n",
       "      <th></th>\n",
       "      <th>MSSubClass</th>\n",
       "      <th>LotFrontage</th>\n",
       "      <th>LotArea</th>\n",
       "      <th>OverallQual</th>\n",
       "      <th>OverallCond</th>\n",
       "      <th>YearBuilt</th>\n",
       "      <th>YearRemodAdd</th>\n",
       "      <th>MasVnrArea</th>\n",
       "      <th>BsmtFinSF1</th>\n",
       "      <th>BsmtFinSF2</th>\n",
       "      <th>...</th>\n",
       "      <th>SaleType_ConLw</th>\n",
       "      <th>SaleType_New</th>\n",
       "      <th>SaleType_Oth</th>\n",
       "      <th>SaleType_WD</th>\n",
       "      <th>SaleCondition_Abnorml</th>\n",
       "      <th>SaleCondition_AdjLand</th>\n",
       "      <th>SaleCondition_Alloca</th>\n",
       "      <th>SaleCondition_Family</th>\n",
       "      <th>SaleCondition_Normal</th>\n",
       "      <th>SaleCondition_Partial</th>\n",
       "    </tr>\n",
       "  </thead>\n",
       "  <tbody>\n",
       "    <tr>\n",
       "      <th>0</th>\n",
       "      <td>-0.874711</td>\n",
       "      <td>0.567330</td>\n",
       "      <td>0.363929</td>\n",
       "      <td>-0.751101</td>\n",
       "      <td>0.400766</td>\n",
       "      <td>-0.340945</td>\n",
       "      <td>-1.072885</td>\n",
       "      <td>-0.563316</td>\n",
       "      <td>0.063428</td>\n",
       "      <td>0.517537</td>\n",
       "      <td>...</td>\n",
       "      <td>-0.045392</td>\n",
       "      <td>-0.295268</td>\n",
       "      <td>-0.052432</td>\n",
       "      <td>0.398568</td>\n",
       "      <td>-0.254879</td>\n",
       "      <td>-0.074253</td>\n",
       "      <td>-0.091066</td>\n",
       "      <td>-0.134699</td>\n",
       "      <td>0.460211</td>\n",
       "      <td>-0.299365</td>\n",
       "    </tr>\n",
       "    <tr>\n",
       "      <th>1</th>\n",
       "      <td>-0.874711</td>\n",
       "      <td>0.615963</td>\n",
       "      <td>0.897861</td>\n",
       "      <td>-0.054877</td>\n",
       "      <td>0.400766</td>\n",
       "      <td>-0.439695</td>\n",
       "      <td>-1.214908</td>\n",
       "      <td>0.047057</td>\n",
       "      <td>1.063511</td>\n",
       "      <td>-0.297689</td>\n",
       "      <td>...</td>\n",
       "      <td>-0.045392</td>\n",
       "      <td>-0.295268</td>\n",
       "      <td>-0.052432</td>\n",
       "      <td>0.398568</td>\n",
       "      <td>-0.254879</td>\n",
       "      <td>-0.074253</td>\n",
       "      <td>-0.091066</td>\n",
       "      <td>-0.134699</td>\n",
       "      <td>0.460211</td>\n",
       "      <td>-0.299365</td>\n",
       "    </tr>\n",
       "    <tr>\n",
       "      <th>2</th>\n",
       "      <td>0.061351</td>\n",
       "      <td>0.275532</td>\n",
       "      <td>0.809646</td>\n",
       "      <td>-0.751101</td>\n",
       "      <td>-0.497418</td>\n",
       "      <td>0.844059</td>\n",
       "      <td>0.678742</td>\n",
       "      <td>-0.563316</td>\n",
       "      <td>0.773377</td>\n",
       "      <td>-0.297689</td>\n",
       "      <td>...</td>\n",
       "      <td>-0.045392</td>\n",
       "      <td>-0.295268</td>\n",
       "      <td>-0.052432</td>\n",
       "      <td>0.398568</td>\n",
       "      <td>-0.254879</td>\n",
       "      <td>-0.074253</td>\n",
       "      <td>-0.091066</td>\n",
       "      <td>-0.134699</td>\n",
       "      <td>0.460211</td>\n",
       "      <td>-0.299365</td>\n",
       "    </tr>\n",
       "    <tr>\n",
       "      <th>3</th>\n",
       "      <td>0.061351</td>\n",
       "      <td>0.470064</td>\n",
       "      <td>0.032064</td>\n",
       "      <td>-0.054877</td>\n",
       "      <td>0.400766</td>\n",
       "      <td>0.876976</td>\n",
       "      <td>0.678742</td>\n",
       "      <td>-0.450284</td>\n",
       "      <td>0.357958</td>\n",
       "      <td>-0.297689</td>\n",
       "      <td>...</td>\n",
       "      <td>-0.045392</td>\n",
       "      <td>-0.295268</td>\n",
       "      <td>-0.052432</td>\n",
       "      <td>0.398568</td>\n",
       "      <td>-0.254879</td>\n",
       "      <td>-0.074253</td>\n",
       "      <td>-0.091066</td>\n",
       "      <td>-0.134699</td>\n",
       "      <td>0.460211</td>\n",
       "      <td>-0.299365</td>\n",
       "    </tr>\n",
       "    <tr>\n",
       "      <th>4</th>\n",
       "      <td>1.465443</td>\n",
       "      <td>-1.232092</td>\n",
       "      <td>-0.971808</td>\n",
       "      <td>1.337571</td>\n",
       "      <td>-0.497418</td>\n",
       "      <td>0.679475</td>\n",
       "      <td>0.394694</td>\n",
       "      <td>-0.563316</td>\n",
       "      <td>-0.387160</td>\n",
       "      <td>-0.297689</td>\n",
       "      <td>...</td>\n",
       "      <td>-0.045392</td>\n",
       "      <td>-0.295268</td>\n",
       "      <td>-0.052432</td>\n",
       "      <td>0.398568</td>\n",
       "      <td>-0.254879</td>\n",
       "      <td>-0.074253</td>\n",
       "      <td>-0.091066</td>\n",
       "      <td>-0.134699</td>\n",
       "      <td>0.460211</td>\n",
       "      <td>-0.299365</td>\n",
       "    </tr>\n",
       "  </tbody>\n",
       "</table>\n",
       "<p>5 rows × 261 columns</p>\n",
       "</div>"
      ],
      "text/plain": [
       "   MSSubClass  LotFrontage   LotArea  OverallQual  OverallCond  YearBuilt  \\\n",
       "0   -0.874711     0.567330  0.363929    -0.751101     0.400766  -0.340945   \n",
       "1   -0.874711     0.615963  0.897861    -0.054877     0.400766  -0.439695   \n",
       "2    0.061351     0.275532  0.809646    -0.751101    -0.497418   0.844059   \n",
       "3    0.061351     0.470064  0.032064    -0.054877     0.400766   0.876976   \n",
       "4    1.465443    -1.232092 -0.971808     1.337571    -0.497418   0.679475   \n",
       "\n",
       "   YearRemodAdd  MasVnrArea  BsmtFinSF1  BsmtFinSF2          ...            \\\n",
       "0     -1.072885   -0.563316    0.063428    0.517537          ...             \n",
       "1     -1.214908    0.047057    1.063511   -0.297689          ...             \n",
       "2      0.678742   -0.563316    0.773377   -0.297689          ...             \n",
       "3      0.678742   -0.450284    0.357958   -0.297689          ...             \n",
       "4      0.394694   -0.563316   -0.387160   -0.297689          ...             \n",
       "\n",
       "   SaleType_ConLw  SaleType_New  SaleType_Oth  SaleType_WD  \\\n",
       "0       -0.045392     -0.295268     -0.052432     0.398568   \n",
       "1       -0.045392     -0.295268     -0.052432     0.398568   \n",
       "2       -0.045392     -0.295268     -0.052432     0.398568   \n",
       "3       -0.045392     -0.295268     -0.052432     0.398568   \n",
       "4       -0.045392     -0.295268     -0.052432     0.398568   \n",
       "\n",
       "   SaleCondition_Abnorml  SaleCondition_AdjLand  SaleCondition_Alloca  \\\n",
       "0              -0.254879              -0.074253             -0.091066   \n",
       "1              -0.254879              -0.074253             -0.091066   \n",
       "2              -0.254879              -0.074253             -0.091066   \n",
       "3              -0.254879              -0.074253             -0.091066   \n",
       "4              -0.254879              -0.074253             -0.091066   \n",
       "\n",
       "   SaleCondition_Family  SaleCondition_Normal  SaleCondition_Partial  \n",
       "0             -0.134699              0.460211              -0.299365  \n",
       "1             -0.134699              0.460211              -0.299365  \n",
       "2             -0.134699              0.460211              -0.299365  \n",
       "3             -0.134699              0.460211              -0.299365  \n",
       "4             -0.134699              0.460211              -0.299365  \n",
       "\n",
       "[5 rows x 261 columns]"
      ]
     },
     "execution_count": 99,
     "metadata": {},
     "output_type": "execute_result"
    }
   ],
   "source": [
    "scaletest_df.head()"
   ]
  },
  {
   "cell_type": "code",
   "execution_count": 100,
   "metadata": {
    "scrolled": true
   },
   "outputs": [
    {
     "data": {
      "text/html": [
       "<div>\n",
       "<style scoped>\n",
       "    .dataframe tbody tr th:only-of-type {\n",
       "        vertical-align: middle;\n",
       "    }\n",
       "\n",
       "    .dataframe tbody tr th {\n",
       "        vertical-align: top;\n",
       "    }\n",
       "\n",
       "    .dataframe thead th {\n",
       "        text-align: right;\n",
       "    }\n",
       "</style>\n",
       "<table border=\"1\" class=\"dataframe\">\n",
       "  <thead>\n",
       "    <tr style=\"text-align: right;\">\n",
       "      <th></th>\n",
       "      <th>MSSubClass</th>\n",
       "      <th>LotFrontage</th>\n",
       "      <th>LotArea</th>\n",
       "      <th>OverallQual</th>\n",
       "      <th>OverallCond</th>\n",
       "      <th>YearBuilt</th>\n",
       "      <th>YearRemodAdd</th>\n",
       "      <th>MasVnrArea</th>\n",
       "      <th>BsmtFinSF1</th>\n",
       "      <th>BsmtFinSF2</th>\n",
       "      <th>...</th>\n",
       "      <th>SaleType_ConLw</th>\n",
       "      <th>SaleType_New</th>\n",
       "      <th>SaleType_Oth</th>\n",
       "      <th>SaleType_WD</th>\n",
       "      <th>SaleCondition_Abnorml</th>\n",
       "      <th>SaleCondition_AdjLand</th>\n",
       "      <th>SaleCondition_Alloca</th>\n",
       "      <th>SaleCondition_Family</th>\n",
       "      <th>SaleCondition_Normal</th>\n",
       "      <th>SaleCondition_Partial</th>\n",
       "    </tr>\n",
       "  </thead>\n",
       "  <tbody>\n",
       "    <tr>\n",
       "      <th>0</th>\n",
       "      <td>0.073375</td>\n",
       "      <td>-0.220875</td>\n",
       "      <td>-0.207142</td>\n",
       "      <td>0.651479</td>\n",
       "      <td>-0.517200</td>\n",
       "      <td>1.050994</td>\n",
       "      <td>0.878668</td>\n",
       "      <td>0.514104</td>\n",
       "      <td>0.575425</td>\n",
       "      <td>-0.288653</td>\n",
       "      <td>...</td>\n",
       "      <td>-0.058621</td>\n",
       "      <td>-0.301962</td>\n",
       "      <td>-0.045376</td>\n",
       "      <td>0.390293</td>\n",
       "      <td>-0.272616</td>\n",
       "      <td>-0.052414</td>\n",
       "      <td>-0.091035</td>\n",
       "      <td>-0.117851</td>\n",
       "      <td>0.467651</td>\n",
       "      <td>-0.305995</td>\n",
       "    </tr>\n",
       "    <tr>\n",
       "      <th>1</th>\n",
       "      <td>-0.872563</td>\n",
       "      <td>0.460320</td>\n",
       "      <td>-0.091886</td>\n",
       "      <td>-0.071836</td>\n",
       "      <td>2.179628</td>\n",
       "      <td>0.156734</td>\n",
       "      <td>-0.429577</td>\n",
       "      <td>-0.570750</td>\n",
       "      <td>1.171992</td>\n",
       "      <td>-0.288653</td>\n",
       "      <td>...</td>\n",
       "      <td>-0.058621</td>\n",
       "      <td>-0.301962</td>\n",
       "      <td>-0.045376</td>\n",
       "      <td>0.390293</td>\n",
       "      <td>-0.272616</td>\n",
       "      <td>-0.052414</td>\n",
       "      <td>-0.091035</td>\n",
       "      <td>-0.117851</td>\n",
       "      <td>0.467651</td>\n",
       "      <td>-0.305995</td>\n",
       "    </tr>\n",
       "    <tr>\n",
       "      <th>2</th>\n",
       "      <td>0.073375</td>\n",
       "      <td>-0.084636</td>\n",
       "      <td>0.073480</td>\n",
       "      <td>0.651479</td>\n",
       "      <td>-0.517200</td>\n",
       "      <td>0.984752</td>\n",
       "      <td>0.830215</td>\n",
       "      <td>0.325915</td>\n",
       "      <td>0.092907</td>\n",
       "      <td>-0.288653</td>\n",
       "      <td>...</td>\n",
       "      <td>-0.058621</td>\n",
       "      <td>-0.301962</td>\n",
       "      <td>-0.045376</td>\n",
       "      <td>0.390293</td>\n",
       "      <td>-0.272616</td>\n",
       "      <td>-0.052414</td>\n",
       "      <td>-0.091035</td>\n",
       "      <td>-0.117851</td>\n",
       "      <td>0.467651</td>\n",
       "      <td>-0.305995</td>\n",
       "    </tr>\n",
       "    <tr>\n",
       "      <th>3</th>\n",
       "      <td>0.309859</td>\n",
       "      <td>-0.447940</td>\n",
       "      <td>-0.096897</td>\n",
       "      <td>0.651479</td>\n",
       "      <td>-0.517200</td>\n",
       "      <td>-1.863632</td>\n",
       "      <td>-0.720298</td>\n",
       "      <td>-0.570750</td>\n",
       "      <td>-0.499274</td>\n",
       "      <td>-0.288653</td>\n",
       "      <td>...</td>\n",
       "      <td>-0.058621</td>\n",
       "      <td>-0.301962</td>\n",
       "      <td>-0.045376</td>\n",
       "      <td>0.390293</td>\n",
       "      <td>3.668167</td>\n",
       "      <td>-0.052414</td>\n",
       "      <td>-0.091035</td>\n",
       "      <td>-0.117851</td>\n",
       "      <td>-2.138345</td>\n",
       "      <td>-0.305995</td>\n",
       "    </tr>\n",
       "    <tr>\n",
       "      <th>4</th>\n",
       "      <td>0.073375</td>\n",
       "      <td>0.641972</td>\n",
       "      <td>0.375148</td>\n",
       "      <td>1.374795</td>\n",
       "      <td>-0.517200</td>\n",
       "      <td>0.951632</td>\n",
       "      <td>0.733308</td>\n",
       "      <td>1.366489</td>\n",
       "      <td>0.463568</td>\n",
       "      <td>-0.288653</td>\n",
       "      <td>...</td>\n",
       "      <td>-0.058621</td>\n",
       "      <td>-0.301962</td>\n",
       "      <td>-0.045376</td>\n",
       "      <td>0.390293</td>\n",
       "      <td>-0.272616</td>\n",
       "      <td>-0.052414</td>\n",
       "      <td>-0.091035</td>\n",
       "      <td>-0.117851</td>\n",
       "      <td>0.467651</td>\n",
       "      <td>-0.305995</td>\n",
       "    </tr>\n",
       "  </tbody>\n",
       "</table>\n",
       "<p>5 rows × 278 columns</p>\n",
       "</div>"
      ],
      "text/plain": [
       "   MSSubClass  LotFrontage   LotArea  OverallQual  OverallCond  YearBuilt  \\\n",
       "0    0.073375    -0.220875 -0.207142     0.651479    -0.517200   1.050994   \n",
       "1   -0.872563     0.460320 -0.091886    -0.071836     2.179628   0.156734   \n",
       "2    0.073375    -0.084636  0.073480     0.651479    -0.517200   0.984752   \n",
       "3    0.309859    -0.447940 -0.096897     0.651479    -0.517200  -1.863632   \n",
       "4    0.073375     0.641972  0.375148     1.374795    -0.517200   0.951632   \n",
       "\n",
       "   YearRemodAdd  MasVnrArea  BsmtFinSF1  BsmtFinSF2          ...            \\\n",
       "0      0.878668    0.514104    0.575425   -0.288653          ...             \n",
       "1     -0.429577   -0.570750    1.171992   -0.288653          ...             \n",
       "2      0.830215    0.325915    0.092907   -0.288653          ...             \n",
       "3     -0.720298   -0.570750   -0.499274   -0.288653          ...             \n",
       "4      0.733308    1.366489    0.463568   -0.288653          ...             \n",
       "\n",
       "   SaleType_ConLw  SaleType_New  SaleType_Oth  SaleType_WD  \\\n",
       "0       -0.058621     -0.301962     -0.045376     0.390293   \n",
       "1       -0.058621     -0.301962     -0.045376     0.390293   \n",
       "2       -0.058621     -0.301962     -0.045376     0.390293   \n",
       "3       -0.058621     -0.301962     -0.045376     0.390293   \n",
       "4       -0.058621     -0.301962     -0.045376     0.390293   \n",
       "\n",
       "   SaleCondition_Abnorml  SaleCondition_AdjLand  SaleCondition_Alloca  \\\n",
       "0              -0.272616              -0.052414             -0.091035   \n",
       "1              -0.272616              -0.052414             -0.091035   \n",
       "2              -0.272616              -0.052414             -0.091035   \n",
       "3               3.668167              -0.052414             -0.091035   \n",
       "4              -0.272616              -0.052414             -0.091035   \n",
       "\n",
       "   SaleCondition_Family  SaleCondition_Normal  SaleCondition_Partial  \n",
       "0             -0.117851              0.467651              -0.305995  \n",
       "1             -0.117851              0.467651              -0.305995  \n",
       "2             -0.117851              0.467651              -0.305995  \n",
       "3             -0.117851             -2.138345              -0.305995  \n",
       "4             -0.117851              0.467651              -0.305995  \n",
       "\n",
       "[5 rows x 278 columns]"
      ]
     },
     "execution_count": 100,
     "metadata": {},
     "output_type": "execute_result"
    }
   ],
   "source": [
    "scaletrain_df.head()"
   ]
  },
  {
   "cell_type": "code",
   "execution_count": 101,
   "metadata": {},
   "outputs": [],
   "source": [
    "#define y values\n",
    "#xtrain=scaletrain_df.drop('SalePrice',axis=1)\n",
    "y=scaletrain_df.SalePrice"
   ]
  },
  {
   "cell_type": "code",
   "execution_count": 102,
   "metadata": {},
   "outputs": [],
   "source": [
    "from sklearn.decomposition import PCA\n",
    "pc=PCA()"
   ]
  },
  {
   "cell_type": "code",
   "execution_count": 103,
   "metadata": {},
   "outputs": [],
   "source": [
    "pca_val=pc.fit_transform(scaletrain_df)"
   ]
  },
  {
   "cell_type": "code",
   "execution_count": 104,
   "metadata": {},
   "outputs": [
    {
     "data": {
      "text/plain": [
       "array([1.96786102e+01, 8.57034746e+00, 6.87016499e+00, 5.68040676e+00,\n",
       "       4.73659430e+00, 4.56399281e+00, 4.04788737e+00, 3.63418186e+00,\n",
       "       3.46807777e+00, 3.20507171e+00, 3.09001074e+00, 3.01842705e+00,\n",
       "       2.91234422e+00, 2.86719565e+00, 2.77491609e+00, 2.71917179e+00,\n",
       "       2.68646120e+00, 2.59682827e+00, 2.49732906e+00, 2.44891804e+00,\n",
       "       2.43019310e+00, 2.37930929e+00, 2.32816666e+00, 2.31746882e+00,\n",
       "       2.23687622e+00, 2.20919429e+00, 2.18615221e+00, 2.17818304e+00,\n",
       "       2.12663605e+00, 2.12158932e+00, 2.07716911e+00, 2.04451772e+00,\n",
       "       2.00998648e+00, 1.97987589e+00, 1.96224344e+00, 1.92795645e+00,\n",
       "       1.91267269e+00, 1.88375049e+00, 1.84114054e+00, 1.80591949e+00,\n",
       "       1.78743605e+00, 1.77170266e+00, 1.75735334e+00, 1.73164856e+00,\n",
       "       1.69961296e+00, 1.67993283e+00, 1.66709079e+00, 1.64277533e+00,\n",
       "       1.61737068e+00, 1.59268395e+00, 1.57468439e+00, 1.54827869e+00,\n",
       "       1.53614538e+00, 1.51814072e+00, 1.50350153e+00, 1.48366987e+00,\n",
       "       1.47723305e+00, 1.46428571e+00, 1.43375792e+00, 1.41512960e+00,\n",
       "       1.40076218e+00, 1.38505746e+00, 1.37525974e+00, 1.36136130e+00,\n",
       "       1.35471052e+00, 1.34712068e+00, 1.32645966e+00, 1.31254480e+00,\n",
       "       1.28987721e+00, 1.27273265e+00, 1.26728237e+00, 1.26315354e+00,\n",
       "       1.26001452e+00, 1.24408998e+00, 1.23834224e+00, 1.22846572e+00,\n",
       "       1.21142536e+00, 1.20625473e+00, 1.19067097e+00, 1.18279335e+00,\n",
       "       1.16168916e+00, 1.15239649e+00, 1.14587518e+00, 1.12564850e+00,\n",
       "       1.11968436e+00, 1.11429878e+00, 1.09844739e+00, 1.09245198e+00,\n",
       "       1.08537558e+00, 1.07443871e+00, 1.07238358e+00, 1.06629814e+00,\n",
       "       1.05869670e+00, 1.05381212e+00, 1.04361570e+00, 1.03533790e+00,\n",
       "       1.02625131e+00, 1.01182543e+00, 9.93286898e-01, 9.88896346e-01,\n",
       "       9.85755612e-01, 9.78948980e-01, 9.66887219e-01, 9.57925269e-01,\n",
       "       9.45594662e-01, 9.39554016e-01, 9.35959508e-01, 9.23530668e-01,\n",
       "       9.18228222e-01, 9.12090606e-01, 9.02788221e-01, 8.98734495e-01,\n",
       "       8.83411508e-01, 8.63841714e-01, 8.59762904e-01, 8.50088296e-01,\n",
       "       8.43591261e-01, 8.38249626e-01, 8.33478770e-01, 8.24796265e-01,\n",
       "       8.18080677e-01, 8.02260209e-01, 8.00232435e-01, 7.95778408e-01,\n",
       "       7.82783662e-01, 7.82571919e-01, 7.72749999e-01, 7.64217559e-01,\n",
       "       7.58556948e-01, 7.48862075e-01, 7.42791454e-01, 7.36944939e-01,\n",
       "       7.33782677e-01, 7.26399691e-01, 7.15711684e-01, 7.06043471e-01,\n",
       "       6.95013653e-01, 6.85102096e-01, 6.82627517e-01, 6.69996106e-01,\n",
       "       6.66972429e-01, 6.58771019e-01, 6.45917661e-01, 6.41444451e-01,\n",
       "       6.32895814e-01, 6.27415690e-01, 6.23445141e-01, 6.15839126e-01,\n",
       "       6.05014119e-01, 6.02914751e-01, 5.98484851e-01, 5.88246861e-01,\n",
       "       5.83990231e-01, 5.80674482e-01, 5.66089233e-01, 5.62201880e-01,\n",
       "       5.52890832e-01, 5.46574267e-01, 5.40409217e-01, 5.37188707e-01,\n",
       "       5.26543770e-01, 5.22615104e-01, 5.08384991e-01, 5.05321502e-01,\n",
       "       4.98945956e-01, 4.88319818e-01, 4.77851989e-01, 4.73187602e-01,\n",
       "       4.64531107e-01, 4.62968265e-01, 4.55439909e-01, 4.49351181e-01,\n",
       "       4.38226506e-01, 4.35859912e-01, 4.34301155e-01, 4.26132383e-01,\n",
       "       4.18348852e-01, 4.10297893e-01, 3.95883309e-01, 3.92989622e-01,\n",
       "       3.88862214e-01, 3.84415435e-01, 3.77043907e-01, 3.73489634e-01,\n",
       "       3.61350753e-01, 3.52657305e-01, 3.49268586e-01, 3.41301240e-01,\n",
       "       3.32454896e-01, 3.28185429e-01, 3.20272330e-01, 3.10763764e-01,\n",
       "       3.05509426e-01, 2.96012894e-01, 2.92418949e-01, 2.90672614e-01,\n",
       "       2.77154738e-01, 2.71888243e-01, 2.59093256e-01, 2.53220281e-01,\n",
       "       2.41191208e-01, 2.36532407e-01, 2.32717820e-01, 2.21731985e-01,\n",
       "       2.16211268e-01, 2.11876709e-01, 2.08378361e-01, 1.95579979e-01,\n",
       "       1.88631047e-01, 1.78408809e-01, 1.63221669e-01, 1.59710507e-01,\n",
       "       1.54061718e-01, 1.51760704e-01, 1.48571401e-01, 1.44480579e-01,\n",
       "       1.38507633e-01, 1.25217658e-01, 1.18855982e-01, 1.13764507e-01,\n",
       "       1.03819553e-01, 1.03095658e-01, 9.43137197e-02, 8.25682709e-02,\n",
       "       7.92751610e-02, 6.95691190e-02, 6.71772602e-02, 6.08596285e-02,\n",
       "       5.15117703e-02, 4.44755502e-02, 3.38094664e-02, 2.03144708e-02,\n",
       "       1.80026632e-02, 1.77362926e-02, 1.44966446e-02, 5.27781249e-30,\n",
       "       1.34519700e-30, 1.13202051e-30, 1.04679879e-30, 9.60727803e-31,\n",
       "       7.88056164e-31, 7.42634339e-31, 6.63068963e-31, 6.14616440e-31,\n",
       "       5.95023225e-31, 5.58982929e-31, 5.55583970e-31, 5.31450361e-31,\n",
       "       5.21094924e-31, 4.99770143e-31, 4.49055113e-31, 3.97453546e-31,\n",
       "       3.92017024e-31, 3.33963014e-31, 2.82242157e-31, 2.69314352e-31,\n",
       "       2.48476643e-31, 2.40375560e-31, 2.36406595e-31, 1.80324738e-31,\n",
       "       1.49837971e-31, 1.36182097e-31, 1.30887248e-31, 1.24585446e-31,\n",
       "       1.17972606e-31, 1.09671809e-31, 1.03390183e-31, 9.57710774e-32,\n",
       "       9.34071021e-32, 8.82198008e-32, 8.59600877e-32, 4.44297038e-32,\n",
       "       4.03297451e-32, 3.61555492e-32, 1.51523731e-32, 1.18822541e-32,\n",
       "       9.93031101e-33, 8.49225481e-34])"
      ]
     },
     "execution_count": 104,
     "metadata": {},
     "output_type": "execute_result"
    }
   ],
   "source": [
    "pc.explained_variance_"
   ]
  },
  {
   "cell_type": "code",
   "execution_count": 105,
   "metadata": {},
   "outputs": [
    {
     "data": {
      "text/plain": [
       "array([7.07378836e-02, 3.08074725e-02, 2.46958971e-02, 2.04191226e-02,\n",
       "       1.70264390e-02, 1.64059956e-02, 1.45507728e-02, 1.30636428e-02,\n",
       "       1.24665553e-02, 1.15211383e-02, 1.11075334e-02, 1.08502145e-02,\n",
       "       1.04688830e-02, 1.03065893e-02, 9.97487576e-03, 9.77449406e-03,\n",
       "       9.65691063e-03, 9.33471088e-03, 8.97704519e-03, 8.80302408e-03,\n",
       "       8.73571432e-03, 8.55280440e-03, 8.36896414e-03, 8.33050902e-03,\n",
       "       8.04080617e-03, 7.94129907e-03, 7.85847067e-03, 7.82982423e-03,\n",
       "       7.64453038e-03, 7.62638912e-03, 7.46671364e-03, 7.34934303e-03,\n",
       "       7.22521503e-03, 7.11697775e-03, 7.05359509e-03, 6.93034507e-03,\n",
       "       6.87540516e-03, 6.77143974e-03, 6.61827152e-03, 6.49166387e-03,\n",
       "       6.42522221e-03, 6.36866606e-03, 6.31708517e-03, 6.22468525e-03,\n",
       "       6.10952822e-03, 6.03878485e-03, 5.99262210e-03, 5.90521633e-03,\n",
       "       5.81389530e-03, 5.72515491e-03, 5.66045266e-03, 5.56553317e-03,\n",
       "       5.52191807e-03, 5.45719747e-03, 5.40457459e-03, 5.33328655e-03,\n",
       "       5.31014838e-03, 5.26360709e-03, 5.15387012e-03, 5.08690769e-03,\n",
       "       5.03526170e-03, 4.97880860e-03, 4.94358914e-03, 4.89362900e-03,\n",
       "       4.86972170e-03, 4.84243882e-03, 4.76816954e-03, 4.71815035e-03,\n",
       "       4.63666812e-03, 4.57503927e-03, 4.55544735e-03, 4.54060564e-03,\n",
       "       4.52932192e-03, 4.47207866e-03, 4.45141749e-03, 4.41591476e-03,\n",
       "       4.35466049e-03, 4.33607383e-03, 4.28005555e-03, 4.25173820e-03,\n",
       "       4.17587582e-03, 4.14247186e-03, 4.11902997e-03, 4.04632198e-03,\n",
       "       4.02488292e-03, 4.00552359e-03, 3.94854325e-03, 3.92699183e-03,\n",
       "       3.90155456e-03, 3.86224027e-03, 3.85485279e-03, 3.83297768e-03,\n",
       "       3.80565311e-03, 3.78809471e-03, 3.75144206e-03, 3.72168622e-03,\n",
       "       3.68902301e-03, 3.63716690e-03, 3.57052721e-03, 3.55474468e-03,\n",
       "       3.54345481e-03, 3.51898729e-03, 3.47562938e-03, 3.44341423e-03,\n",
       "       3.39908991e-03, 3.37737585e-03, 3.36445482e-03, 3.31977739e-03,\n",
       "       3.30071690e-03, 3.27865427e-03, 3.24521537e-03, 3.23064361e-03,\n",
       "       3.17556271e-03, 3.10521598e-03, 3.09055405e-03, 3.05577713e-03,\n",
       "       3.03242251e-03, 3.01322116e-03, 2.99607156e-03, 2.96486092e-03,\n",
       "       2.94072068e-03, 2.88385150e-03, 2.87656234e-03, 2.86055163e-03,\n",
       "       2.81383996e-03, 2.81307882e-03, 2.77777237e-03, 2.74710116e-03,\n",
       "       2.72675319e-03, 2.69190344e-03, 2.67008163e-03, 2.64906540e-03,\n",
       "       2.63769815e-03, 2.61115884e-03, 2.57273910e-03, 2.53798518e-03,\n",
       "       2.49833675e-03, 2.46270809e-03, 2.45381282e-03, 2.40840721e-03,\n",
       "       2.39753812e-03, 2.36805686e-03, 2.32185342e-03, 2.30577376e-03,\n",
       "       2.27504433e-03, 2.25534516e-03, 2.24107239e-03, 2.21373136e-03,\n",
       "       2.17481916e-03, 2.16727265e-03, 2.15134867e-03, 2.11454659e-03,\n",
       "       2.09924546e-03, 2.08732647e-03, 2.03489748e-03, 2.02092378e-03,\n",
       "       1.98745374e-03, 1.96474785e-03, 1.94258660e-03, 1.93100996e-03,\n",
       "       1.89274505e-03, 1.87862284e-03, 1.82747044e-03, 1.81645824e-03,\n",
       "       1.79354033e-03, 1.75534299e-03, 1.71771472e-03, 1.70094784e-03,\n",
       "       1.66983070e-03, 1.66421282e-03, 1.63715095e-03, 1.61526405e-03,\n",
       "       1.57527464e-03, 1.56676754e-03, 1.56116435e-03, 1.53180040e-03,\n",
       "       1.50382126e-03, 1.47488082e-03, 1.42306531e-03, 1.41266349e-03,\n",
       "       1.39782687e-03, 1.38184222e-03, 1.35534409e-03, 1.34256770e-03,\n",
       "       1.29893256e-03, 1.26768259e-03, 1.25550130e-03, 1.22686141e-03,\n",
       "       1.19506183e-03, 1.17971455e-03, 1.15126966e-03, 1.11708961e-03,\n",
       "       1.09820206e-03, 1.06406527e-03, 1.05114626e-03, 1.04486879e-03,\n",
       "       9.96276641e-04, 9.77345389e-04, 9.31351781e-04, 9.10240442e-04,\n",
       "       8.67000030e-04, 8.50253231e-04, 8.36541094e-04, 7.97050769e-04,\n",
       "       7.77205677e-04, 7.61624418e-04, 7.49049051e-04, 7.03043240e-04,\n",
       "       6.78064199e-04, 6.41318745e-04, 5.86726164e-04, 5.74104734e-04,\n",
       "       5.53799267e-04, 5.45527908e-04, 5.34063452e-04, 5.19358343e-04,\n",
       "       4.97887642e-04, 4.50114722e-04, 4.27246669e-04, 4.08944556e-04,\n",
       "       3.73195839e-04, 3.70593687e-04, 3.39025616e-04, 2.96804738e-04,\n",
       "       2.84967133e-04, 2.50077226e-04, 2.41479311e-04, 2.18769582e-04,\n",
       "       1.85167224e-04, 1.59874415e-04, 1.21533486e-04, 7.30235856e-05,\n",
       "       6.47134267e-05, 6.37559154e-05, 5.21104869e-05, 1.89719336e-32,\n",
       "       4.83552386e-33, 4.06922718e-33, 3.76288419e-33, 3.45348838e-33,\n",
       "       2.83279280e-33, 2.66951685e-33, 2.38350650e-33, 2.20933622e-33,\n",
       "       2.13890531e-33, 2.00935275e-33, 1.99713465e-33, 1.91038257e-33,\n",
       "       1.87315831e-33, 1.79650300e-33, 1.61419979e-33, 1.42870977e-33,\n",
       "       1.40916734e-33, 1.20048299e-33, 1.01456417e-33, 9.68093129e-34,\n",
       "       8.93188682e-34, 8.64068054e-34, 8.49800982e-34, 6.48205856e-34,\n",
       "       5.38616338e-34, 4.89528137e-34, 4.70494962e-34, 4.47842135e-34,\n",
       "       4.24071235e-34, 3.94232704e-34, 3.71652401e-34, 3.44264319e-34,\n",
       "       3.35766636e-34, 3.17120059e-34, 3.08997162e-34, 1.59709613e-34,\n",
       "       1.44971662e-34, 1.29966853e-34, 5.44676070e-35, 4.27126458e-35,\n",
       "       3.56960771e-35, 3.05267561e-36])"
      ]
     },
     "execution_count": 105,
     "metadata": {},
     "output_type": "execute_result"
    }
   ],
   "source": [
    "pc.explained_variance_ratio_"
   ]
  },
  {
   "cell_type": "code",
   "execution_count": 106,
   "metadata": {},
   "outputs": [
    {
     "data": {
      "text/plain": [
       "array([0.07073788, 0.10154536, 0.12624125, 0.14666038, 0.16368681,\n",
       "       0.18009281, 0.19464358, 0.20770723, 0.22017378, 0.23169492,\n",
       "       0.24280245, 0.25365267, 0.26412155, 0.27442814, 0.28440302,\n",
       "       0.29417751, 0.30383442, 0.31316913, 0.32214618, 0.3309492 ,\n",
       "       0.33968491, 0.34823772, 0.35660668, 0.36493719, 0.372978  ,\n",
       "       0.3809193 , 0.38877777, 0.39660759, 0.40425212, 0.41187851,\n",
       "       0.41934523, 0.42669457, 0.43391978, 0.44103676, 0.44809036,\n",
       "       0.4550207 , 0.46189611, 0.46866755, 0.47528582, 0.48177748,\n",
       "       0.4882027 , 0.49457137, 0.50088846, 0.50711314, 0.51322267,\n",
       "       0.51926145, 0.52525408, 0.53115929, 0.53697319, 0.54269834,\n",
       "       0.5483588 , 0.55392433, 0.55944625, 0.56490344, 0.57030802,\n",
       "       0.5756413 , 0.58095145, 0.58621506, 0.59136893, 0.59645584,\n",
       "       0.6014911 , 0.60646991, 0.6114135 , 0.61630713, 0.62117685,\n",
       "       0.62601929, 0.63078746, 0.63550561, 0.64014228, 0.64471731,\n",
       "       0.64927276, 0.65381337, 0.65834269, 0.66281477, 0.66726619,\n",
       "       0.6716821 , 0.67603676, 0.68037283, 0.68465289, 0.68890463,\n",
       "       0.6930805 , 0.69722298, 0.70134201, 0.70538833, 0.70941321,\n",
       "       0.71341873, 0.71736728, 0.72129427, 0.72519582, 0.72905806,\n",
       "       0.73291292, 0.73674589, 0.74055155, 0.74433964, 0.74809108,\n",
       "       0.75181277, 0.75550179, 0.75913896, 0.76270949, 0.76626423,\n",
       "       0.76980769, 0.77332667, 0.7768023 , 0.78024572, 0.78364481,\n",
       "       0.78702218, 0.79038664, 0.79370642, 0.79700713, 0.80028579,\n",
       "       0.803531  , 0.80676165, 0.80993721, 0.81304243, 0.81613298,\n",
       "       0.81918876, 0.82222118, 0.8252344 , 0.82823047, 0.83119533,\n",
       "       0.83413605, 0.8370199 , 0.83989647, 0.84275702, 0.84557086,\n",
       "       0.84838394, 0.85116171, 0.85390881, 0.85663556, 0.85932747,\n",
       "       0.86199755, 0.86464661, 0.86728431, 0.86989547, 0.87246821,\n",
       "       0.8750062 , 0.87750453, 0.87996724, 0.88242105, 0.88482946,\n",
       "       0.887227  , 0.88959506, 0.89191691, 0.89422268, 0.89649773,\n",
       "       0.89875307, 0.90099414, 0.90320788, 0.9053827 , 0.90754997,\n",
       "       0.90970132, 0.91181586, 0.91391511, 0.91600244, 0.91803733,\n",
       "       0.92005826, 0.92204571, 0.92401046, 0.92595304, 0.92788405,\n",
       "       0.9297768 , 0.93165542, 0.93348289, 0.93529935, 0.93709289,\n",
       "       0.93884823, 0.94056595, 0.9422669 , 0.94393673, 0.94560094,\n",
       "       0.94723809, 0.94885336, 0.95042863, 0.9519954 , 0.95355656,\n",
       "       0.95508836, 0.95659218, 0.95806706, 0.95949013, 0.96090279,\n",
       "       0.96230062, 0.96368246, 0.96503781, 0.96638037, 0.96767931,\n",
       "       0.96894699, 0.97020249, 0.97142935, 0.97262441, 0.97380413,\n",
       "       0.9749554 , 0.97607249, 0.97717069, 0.97823476, 0.9792859 ,\n",
       "       0.98033077, 0.98132705, 0.98230439, 0.98323574, 0.98414598,\n",
       "       0.98501298, 0.98586324, 0.98669978, 0.98749683, 0.98827404,\n",
       "       0.98903566, 0.98978471, 0.99048775, 0.99116582, 0.99180713,\n",
       "       0.99239386, 0.99296797, 0.99352177, 0.99406729, 0.99460136,\n",
       "       0.99512071, 0.9956186 , 0.99606872, 0.99649596, 0.99690491,\n",
       "       0.9972781 , 0.9976487 , 0.99798772, 0.99828453, 0.9985695 ,\n",
       "       0.99881957, 0.99906105, 0.99927982, 0.99946499, 0.99962486,\n",
       "       0.9997464 , 0.99981942, 0.99988413, 0.99994789, 1.        ,\n",
       "       1.        , 1.        , 1.        , 1.        , 1.        ,\n",
       "       1.        , 1.        , 1.        , 1.        , 1.        ,\n",
       "       1.        , 1.        , 1.        , 1.        , 1.        ,\n",
       "       1.        , 1.        , 1.        , 1.        , 1.        ,\n",
       "       1.        , 1.        , 1.        , 1.        , 1.        ,\n",
       "       1.        , 1.        , 1.        , 1.        , 1.        ,\n",
       "       1.        , 1.        , 1.        , 1.        , 1.        ,\n",
       "       1.        , 1.        , 1.        , 1.        , 1.        ,\n",
       "       1.        , 1.        , 1.        ])"
      ]
     },
     "execution_count": 106,
     "metadata": {},
     "output_type": "execute_result"
    }
   ],
   "source": [
    "np.cumsum(pc.explained_variance_ratio_)"
   ]
  },
  {
   "cell_type": "code",
   "execution_count": 107,
   "metadata": {},
   "outputs": [
    {
     "data": {
      "image/png": "[encoded data removed]",
      "text/plain": [
       "<Figure size 432x288 with 1 Axes>"
      ]
     },
     "metadata": {
      "needs_background": "light"
     },
     "output_type": "display_data"
    }
   ],
   "source": [
    "plt.plot(np.cumsum(pc.explained_variance_ratio_),\"-o\",linestyle=\"dashed\",markerfacecolor=\"red\",markersize=10) \n",
    "plt.xlabel(\"no of components\")\n",
    "plt.ylabel(\"explained variance in %\")\n",
    "plt.title(\"finding the number of components\")\n",
    "plt.show()"
   ]
  },
  {
   "cell_type": "code",
   "execution_count": 108,
   "metadata": {},
   "outputs": [],
   "source": [
    "#############################after pca reduced ##############"
   ]
  },
  {
   "cell_type": "code",
   "execution_count": 109,
   "metadata": {},
   "outputs": [],
   "source": [
    "pc=PCA(n_components=120)"
   ]
  },
  {
   "cell_type": "code",
   "execution_count": 110,
   "metadata": {},
   "outputs": [],
   "source": [
    "pc_train=pd.DataFrame(pc.fit_transform(scaletrain_df))\n",
    "pc_test=pd.DataFrame(pc.fit_transform(scaletest_df))"
   ]
  },
  {
   "cell_type": "code",
   "execution_count": 111,
   "metadata": {},
   "outputs": [],
   "source": [
    "######Linear Regression ####"
   ]
  },
  {
   "cell_type": "code",
   "execution_count": 112,
   "metadata": {},
   "outputs": [],
   "source": [
    "##Apply linear regression\n",
    "lr=LinearRegression()"
   ]
  },
  {
   "cell_type": "code",
   "execution_count": 113,
   "metadata": {},
   "outputs": [
    {
     "data": {
      "text/plain": [
       "LinearRegression(copy_X=True, fit_intercept=True, n_jobs=None,\n",
       "         normalize=False)"
      ]
     },
     "execution_count": 113,
     "metadata": {},
     "output_type": "execute_result"
    }
   ],
   "source": [
    "lr.fit(pc_train,y)"
   ]
  },
  {
   "cell_type": "code",
   "execution_count": 114,
   "metadata": {},
   "outputs": [],
   "source": [
    "lr_model=lr.predict(pc_test)"
   ]
  },
  {
   "cell_type": "code",
   "execution_count": 115,
   "metadata": {},
   "outputs": [],
   "source": [
    "#these values are not the correct values, we have to inverse the values from standard scalar"
   ]
  },
  {
   "cell_type": "code",
   "execution_count": 116,
   "metadata": {},
   "outputs": [],
   "source": [
    "#take any random col and do fit_transform"
   ]
  },
  {
   "cell_type": "code",
   "execution_count": 117,
   "metadata": {},
   "outputs": [],
   "source": [
    "#then do inverse"
   ]
  },
  {
   "cell_type": "code",
   "execution_count": 118,
   "metadata": {},
   "outputs": [
    {
     "name": "stderr",
     "output_type": "stream",
     "text": [
      "C:\\Users\\Ashok\\Anaconda3\\lib\\site-packages\\sklearn\\preprocessing\\data.py:625: DataConversionWarning: Data with input dtype int64 were all converted to float64 by StandardScaler.\n",
      "  return self.partial_fit(X, y)\n",
      "C:\\Users\\Ashok\\Anaconda3\\lib\\site-packages\\sklearn\\base.py:462: DataConversionWarning: Data with input dtype int64 were all converted to float64 by StandardScaler.\n",
      "  return self.fit(X, **fit_params).transform(X)\n"
     ]
    }
   ],
   "source": [
    "scaled=sc.fit_transform(pd.DataFrame(train.SalePrice)) # re initiated the fit transform\n",
    "#have to save this in a variable, now the fit_transform is refreshed.\n",
    "#Now we will get the inverse transform values"
   ]
  },
  {
   "cell_type": "code",
   "execution_count": 119,
   "metadata": {},
   "outputs": [],
   "source": [
    "actual_values=sc.inverse_transform(lr_model)"
   ]
  },
  {
   "cell_type": "code",
   "execution_count": 120,
   "metadata": {},
   "outputs": [],
   "source": [
    "#prepare the dataframe for submission"
   ]
  },
  {
   "cell_type": "code",
   "execution_count": 121,
   "metadata": {},
   "outputs": [],
   "source": [
    "# run test again to get ID values\n",
    "ID=test.Id\n",
    "SalePrice=actual_values"
   ]
  },
  {
   "cell_type": "code",
   "execution_count": 122,
   "metadata": {},
   "outputs": [],
   "source": [
    "Solution=pd.DataFrame({\"Id\":ID,\"SalePrice\":SalePrice})"
   ]
  },
  {
   "cell_type": "code",
   "execution_count": 123,
   "metadata": {},
   "outputs": [],
   "source": [
    "Solution.to_csv('HousePrice_LR_Model.csv',index=False)  #it will be saved in working directory"
   ]
  },
  {
   "cell_type": "code",
   "execution_count": 124,
   "metadata": {},
   "outputs": [
    {
     "name": "stdout",
     "output_type": "stream",
     "text": [
      "[WinError 2] The system cannot find the file specified: '#this is the working directory'\n",
      "C:\\Users\\Ashok\\Downloads\n"
     ]
    }
   ],
   "source": [
    "cd #this is the working directory"
   ]
  },
  {
   "cell_type": "code",
   "execution_count": 125,
   "metadata": {},
   "outputs": [],
   "source": [
    "####Decision Tree####"
   ]
  },
  {
   "cell_type": "code",
   "execution_count": 126,
   "metadata": {},
   "outputs": [],
   "source": [
    "dtree=DecisionTreeRegressor()"
   ]
  },
  {
   "cell_type": "code",
   "execution_count": 127,
   "metadata": {},
   "outputs": [
    {
     "data": {
      "text/plain": [
       "DecisionTreeRegressor(criterion='mse', max_depth=None, max_features=None,\n",
       "           max_leaf_nodes=None, min_impurity_decrease=0.0,\n",
       "           min_impurity_split=None, min_samples_leaf=1,\n",
       "           min_samples_split=2, min_weight_fraction_leaf=0.0,\n",
       "           presort=False, random_state=None, splitter='best')"
      ]
     },
     "execution_count": 127,
     "metadata": {},
     "output_type": "execute_result"
    }
   ],
   "source": [
    "dtree.fit(pc_train,y)"
   ]
  },
  {
   "cell_type": "code",
   "execution_count": 128,
   "metadata": {},
   "outputs": [],
   "source": [
    "model_tree=dtree.predict(pc_test)"
   ]
  },
  {
   "cell_type": "code",
   "execution_count": 129,
   "metadata": {},
   "outputs": [],
   "source": [
    "actual_values=sc.inverse_transform(model_tree)"
   ]
  },
  {
   "cell_type": "code",
   "execution_count": 130,
   "metadata": {},
   "outputs": [],
   "source": [
    "# run test again to get ID values\n",
    "ID=test.Id\n",
    "SalePrice=actual_values\n",
    "Solution_Dtree=pd.DataFrame({\"Id\":ID,\"SalePrice\":SalePrice})"
   ]
  },
  {
   "cell_type": "code",
   "execution_count": 131,
   "metadata": {},
   "outputs": [],
   "source": [
    "Solution_Dtree.to_csv('HousePrice_DT_Model.csv',index=False)"
   ]
  },
  {
   "cell_type": "code",
   "execution_count": 132,
   "metadata": {},
   "outputs": [],
   "source": [
    "#once we submit in kaggle, kaggle will give us RMSE value"
   ]
  },
  {
   "cell_type": "code",
   "execution_count": 133,
   "metadata": {},
   "outputs": [
    {
     "name": "stdout",
     "output_type": "stream",
     "text": [
      "C:\\Users\\Ashok\n"
     ]
    }
   ],
   "source": [
    "cd"
   ]
  },
  {
   "cell_type": "code",
   "execution_count": 134,
   "metadata": {},
   "outputs": [],
   "source": [
    "####Random Forest####"
   ]
  },
  {
   "cell_type": "code",
   "execution_count": 135,
   "metadata": {},
   "outputs": [],
   "source": [
    "rf=RandomForestRegressor()"
   ]
  },
  {
   "cell_type": "code",
   "execution_count": 136,
   "metadata": {},
   "outputs": [
    {
     "name": "stderr",
     "output_type": "stream",
     "text": [
      "C:\\Users\\Ashok\\Anaconda3\\lib\\site-packages\\sklearn\\ensemble\\forest.py:246: FutureWarning: The default value of n_estimators will change from 10 in version 0.20 to 100 in 0.22.\n",
      "  \"10 in version 0.20 to 100 in 0.22.\", FutureWarning)\n"
     ]
    },
    {
     "data": {
      "text/plain": [
       "RandomForestRegressor(bootstrap=True, criterion='mse', max_depth=None,\n",
       "           max_features='auto', max_leaf_nodes=None,\n",
       "           min_impurity_decrease=0.0, min_impurity_split=None,\n",
       "           min_samples_leaf=1, min_samples_split=2,\n",
       "           min_weight_fraction_leaf=0.0, n_estimators=10, n_jobs=None,\n",
       "           oob_score=False, random_state=None, verbose=0, warm_start=False)"
      ]
     },
     "execution_count": 136,
     "metadata": {},
     "output_type": "execute_result"
    }
   ],
   "source": [
    "rf.fit(pc_train,y)"
   ]
  },
  {
   "cell_type": "code",
   "execution_count": 137,
   "metadata": {},
   "outputs": [],
   "source": [
    "model_rf=rf.predict(pc_test)"
   ]
  },
  {
   "cell_type": "code",
   "execution_count": 138,
   "metadata": {},
   "outputs": [],
   "source": [
    "actual_values=sc.inverse_transform(model_rf)\n",
    "ID=test.Id\n",
    "SalePrice=actual_values\n",
    "Solution_RF=pd.DataFrame({\"Id\":ID,\"SalePrice\":SalePrice})"
   ]
  },
  {
   "cell_type": "code",
   "execution_count": 139,
   "metadata": {},
   "outputs": [],
   "source": [
    "Solution_RF.to_csv('HousePrice_RF_Model.csv',index=False)"
   ]
  },
  {
   "cell_type": "code",
   "execution_count": 140,
   "metadata": {},
   "outputs": [],
   "source": [
    "###Bagging####"
   ]
  },
  {
   "cell_type": "code",
   "execution_count": 141,
   "metadata": {},
   "outputs": [],
   "source": [
    "bag=BaggingRegressor()"
   ]
  },
  {
   "cell_type": "code",
   "execution_count": 142,
   "metadata": {},
   "outputs": [
    {
     "data": {
      "text/plain": [
       "BaggingRegressor(base_estimator=None, bootstrap=True,\n",
       "         bootstrap_features=False, max_features=1.0, max_samples=1.0,\n",
       "         n_estimators=10, n_jobs=None, oob_score=False, random_state=None,\n",
       "         verbose=0, warm_start=False)"
      ]
     },
     "execution_count": 142,
     "metadata": {},
     "output_type": "execute_result"
    }
   ],
   "source": [
    "bag.fit(pc_train,y)"
   ]
  },
  {
   "cell_type": "code",
   "execution_count": 143,
   "metadata": {},
   "outputs": [],
   "source": [
    "model_bag=bag.predict(pc_test)"
   ]
  },
  {
   "cell_type": "code",
   "execution_count": 144,
   "metadata": {},
   "outputs": [],
   "source": [
    "actual_values=sc.inverse_transform(model_bag)\n",
    "ID=test.Id\n",
    "SalePrice=actual_values\n",
    "Solution_bag=pd.DataFrame({\"Id\":ID,\"SalePrice\":SalePrice})"
   ]
  },
  {
   "cell_type": "code",
   "execution_count": 145,
   "metadata": {},
   "outputs": [],
   "source": [
    "Solution_bag.to_csv('HousePrice_Bag_Model.csv',index=False)"
   ]
  },
  {
   "cell_type": "code",
   "execution_count": 146,
   "metadata": {},
   "outputs": [],
   "source": [
    "###Boosting"
   ]
  },
  {
   "cell_type": "code",
   "execution_count": 147,
   "metadata": {},
   "outputs": [],
   "source": [
    "boost=AdaBoostRegressor()"
   ]
  },
  {
   "cell_type": "code",
   "execution_count": 148,
   "metadata": {},
   "outputs": [
    {
     "data": {
      "text/plain": [
       "AdaBoostRegressor(base_estimator=None, learning_rate=1.0, loss='linear',\n",
       "         n_estimators=50, random_state=None)"
      ]
     },
     "execution_count": 148,
     "metadata": {},
     "output_type": "execute_result"
    }
   ],
   "source": [
    "boost.fit(pc_train,y)  #can define base_estimator as random forest etc..."
   ]
  },
  {
   "cell_type": "code",
   "execution_count": 149,
   "metadata": {},
   "outputs": [],
   "source": [
    "model_boost=boost.predict(pc_test)"
   ]
  },
  {
   "cell_type": "code",
   "execution_count": 150,
   "metadata": {},
   "outputs": [],
   "source": [
    "actual_values=sc.inverse_transform(model_boost)\n",
    "ID=test.Id\n",
    "SalePrice=actual_values\n",
    "Solution_boost=pd.DataFrame({\"Id\":ID,\"SalePrice\":SalePrice})"
   ]
  },
  {
   "cell_type": "code",
   "execution_count": 151,
   "metadata": {},
   "outputs": [],
   "source": [
    "Solution_boost.to_csv('HousePrice_Boost_Model.csv',index=False) #0.22460"
   ]
  },
  {
   "cell_type": "code",
   "execution_count": 152,
   "metadata": {},
   "outputs": [],
   "source": [
    "#increase in rmse for adaboost "
   ]
  },
  {
   "cell_type": "code",
   "execution_count": 153,
   "metadata": {},
   "outputs": [],
   "source": [
    "##########################Ensemble of base models##############"
   ]
  },
  {
   "cell_type": "code",
   "execution_count": 154,
   "metadata": {},
   "outputs": [],
   "source": [
    "ensemble_models=(model_bag+model_rf+model_tree )/3  #whcih ever  model with less rmse take average"
   ]
  },
  {
   "cell_type": "code",
   "execution_count": 155,
   "metadata": {},
   "outputs": [],
   "source": [
    "actual_values=sc.inverse_transform(ensemble_models)\n",
    "ID=test.Id\n",
    "SalePrice=actual_values\n",
    "Solution_ensemble=pd.DataFrame({\"Id\":ID,\"SalePrice\":SalePrice})"
   ]
  },
  {
   "cell_type": "code",
   "execution_count": 156,
   "metadata": {},
   "outputs": [],
   "source": [
    "Solution_ensemble.to_csv('HousePrice_Ensemble_Model.csv',index=False)"
   ]
  },
  {
   "cell_type": "code",
   "execution_count": 157,
   "metadata": {},
   "outputs": [],
   "source": [
    "###################ensemle 2##########"
   ]
  },
  {
   "cell_type": "code",
   "execution_count": 158,
   "metadata": {},
   "outputs": [],
   "source": [
    "ensemble_all=(model_bag+model_rf+model_tree+lr_model)/4"
   ]
  },
  {
   "cell_type": "code",
   "execution_count": 159,
   "metadata": {},
   "outputs": [],
   "source": [
    "actual_values=sc.inverse_transform(ensemble_all)\n",
    "ID=test.Id\n",
    "SalePrice=actual_values\n",
    "Solution_ensemble_all=pd.DataFrame({\"Id\":ID,\"SalePrice\":SalePrice})"
   ]
  },
  {
   "cell_type": "code",
   "execution_count": 160,
   "metadata": {},
   "outputs": [],
   "source": [
    "Solution_ensemble_all.to_csv('HousePrice_Ensemble_All_Model.csv',index=False)"
   ]
  },
  {
   "cell_type": "code",
   "execution_count": 161,
   "metadata": {},
   "outputs": [],
   "source": [
    "#####TO reduce more rmse use grid search   ###################\n",
    "#GBM, XGBOOST for tuning, #feature engineering"
   ]
  },
  {
   "cell_type": "code",
   "execution_count": 162,
   "metadata": {},
   "outputs": [],
   "source": [
    "pc1=PCA(n_components=255)"
   ]
  },
  {
   "cell_type": "code",
   "execution_count": 163,
   "metadata": {},
   "outputs": [],
   "source": [
    "pc_train_new=pd.DataFrame(pc1.fit_transform(scaletrain_df))\n",
    "pc_test_new=pd.DataFrame(pc1.fit_transform(scaletest_df))"
   ]
  },
  {
   "cell_type": "code",
   "execution_count": 165,
   "metadata": {},
   "outputs": [],
   "source": [
    "dtree_new=DecisionTreeRegressor()\n",
    "dtree_new.fit(pc_train_new,y)\n",
    "model_tree_new=dtree_new.predict(pc_test_new)\n",
    "actual_values_new=sc.inverse_transform(model_tree_new)\n"
   ]
  },
  {
   "cell_type": "code",
   "execution_count": 166,
   "metadata": {},
   "outputs": [],
   "source": [
    "ID=test.Id\n",
    "SalePrice=actual_values\n",
    "Solution_Dtree_new=pd.DataFrame({\"Id\":ID,\"SalePrice\":SalePrice})"
   ]
  },
  {
   "cell_type": "code",
   "execution_count": 167,
   "metadata": {},
   "outputs": [],
   "source": [
    "Solution_Dtree_new.to_csv('HousePrice_DT_Model_new.csv',index=False)"
   ]
  },
  {
   "cell_type": "code",
   "execution_count": null,
   "metadata": {},
   "outputs": [],
   "source": [
    "sklearn"
   ]
  }
 ],
 "metadata": {
  "kernelspec": {
   "display_name": "Python 3",
   "language": "python",
   "name": "python3"
  },
  "language_info": {
   "codemirror_mode": {
    "name": "ipython",
    "version": 3
   },
   "file_extension": ".py",
   "mimetype": "text/x-python",
   "name": "python",
   "nbconvert_exporter": "python",
   "pygments_lexer": "ipython3",
   "version": "3.7.1"
  }
 },
 "nbformat": 4,
 "nbformat_minor": 2
}
