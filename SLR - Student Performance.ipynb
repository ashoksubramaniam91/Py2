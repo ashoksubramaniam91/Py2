{
 "cells": [
  {
   "cell_type": "code",
   "execution_count": 32,
   "metadata": {},
   "outputs": [],
   "source": [
    "import pandas as pd\n",
    "import numpy as np\n",
    "import seaborn as sns\n",
    "\n",
    "from sklearn.model_selection import train_test_split\n",
    "from sklearn.linear_model import LinearRegression\n",
    "\n",
    "from sklearn.metrics import mean_squared_error\n",
    "from sklearn import metrics\n",
    "\n",
    "import statsmodels.formula.api as sm\n",
    "import scipy, scipy.stats\n",
    "import math\n",
    "\n",
    "from statsmodels.api import add_constant"
   ]
  },
  {
   "cell_type": "code",
   "execution_count": 33,
   "metadata": {},
   "outputs": [
    {
     "data": {
      "text/html": [
       "<div>\n",
       "<style scoped>\n",
       "    .dataframe tbody tr th:only-of-type {\n",
       "        vertical-align: middle;\n",
       "    }\n",
       "\n",
       "    .dataframe tbody tr th {\n",
       "        vertical-align: top;\n",
       "    }\n",
       "\n",
       "    .dataframe thead th {\n",
       "        text-align: right;\n",
       "    }\n",
       "</style>\n",
       "<table border=\"1\" class=\"dataframe\">\n",
       "  <thead>\n",
       "    <tr style=\"text-align: right;\">\n",
       "      <th></th>\n",
       "      <th>gender</th>\n",
       "      <th>race/ethnicity</th>\n",
       "      <th>parental level of education</th>\n",
       "      <th>lunch</th>\n",
       "      <th>test preparation course</th>\n",
       "      <th>math score</th>\n",
       "      <th>reading score</th>\n",
       "      <th>writing score</th>\n",
       "    </tr>\n",
       "  </thead>\n",
       "  <tbody>\n",
       "    <tr>\n",
       "      <th>0</th>\n",
       "      <td>female</td>\n",
       "      <td>group B</td>\n",
       "      <td>bachelor's degree</td>\n",
       "      <td>standard</td>\n",
       "      <td>none</td>\n",
       "      <td>72</td>\n",
       "      <td>72</td>\n",
       "      <td>74</td>\n",
       "    </tr>\n",
       "    <tr>\n",
       "      <th>1</th>\n",
       "      <td>female</td>\n",
       "      <td>group C</td>\n",
       "      <td>some college</td>\n",
       "      <td>standard</td>\n",
       "      <td>completed</td>\n",
       "      <td>69</td>\n",
       "      <td>90</td>\n",
       "      <td>88</td>\n",
       "    </tr>\n",
       "    <tr>\n",
       "      <th>2</th>\n",
       "      <td>female</td>\n",
       "      <td>group B</td>\n",
       "      <td>master's degree</td>\n",
       "      <td>standard</td>\n",
       "      <td>none</td>\n",
       "      <td>90</td>\n",
       "      <td>95</td>\n",
       "      <td>93</td>\n",
       "    </tr>\n",
       "    <tr>\n",
       "      <th>3</th>\n",
       "      <td>male</td>\n",
       "      <td>group A</td>\n",
       "      <td>associate's degree</td>\n",
       "      <td>free/reduced</td>\n",
       "      <td>none</td>\n",
       "      <td>47</td>\n",
       "      <td>57</td>\n",
       "      <td>44</td>\n",
       "    </tr>\n",
       "    <tr>\n",
       "      <th>4</th>\n",
       "      <td>male</td>\n",
       "      <td>group C</td>\n",
       "      <td>some college</td>\n",
       "      <td>standard</td>\n",
       "      <td>none</td>\n",
       "      <td>76</td>\n",
       "      <td>78</td>\n",
       "      <td>75</td>\n",
       "    </tr>\n",
       "  </tbody>\n",
       "</table>\n",
       "</div>"
      ],
      "text/plain": [
       "   gender race/ethnicity parental level of education         lunch  \\\n",
       "0  female        group B           bachelor's degree      standard   \n",
       "1  female        group C                some college      standard   \n",
       "2  female        group B             master's degree      standard   \n",
       "3    male        group A          associate's degree  free/reduced   \n",
       "4    male        group C                some college      standard   \n",
       "\n",
       "  test preparation course  math score  reading score  writing score  \n",
       "0                    none          72             72             74  \n",
       "1               completed          69             90             88  \n",
       "2                    none          90             95             93  \n",
       "3                    none          47             57             44  \n",
       "4                    none          76             78             75  "
      ]
     },
     "execution_count": 33,
     "metadata": {},
     "output_type": "execute_result"
    }
   ],
   "source": [
    "dataset_sp = pd.read_csv('StudentsPerformance.csv')\n",
    "dataset_sp.head()"
   ]
  },
  {
   "cell_type": "code",
   "execution_count": 34,
   "metadata": {},
   "outputs": [
    {
     "name": "stdout",
     "output_type": "stream",
     "text": [
      "<class 'pandas.core.frame.DataFrame'>\n",
      "RangeIndex: 1000 entries, 0 to 999\n",
      "Data columns (total 8 columns):\n",
      "gender                         1000 non-null object\n",
      "race/ethnicity                 1000 non-null object\n",
      "parental level of education    1000 non-null object\n",
      "lunch                          1000 non-null object\n",
      "test preparation course        1000 non-null object\n",
      "math score                     1000 non-null int64\n",
      "reading score                  1000 non-null int64\n",
      "writing score                  1000 non-null int64\n",
      "dtypes: int64(3), object(5)\n",
      "memory usage: 62.6+ KB\n"
     ]
    }
   ],
   "source": [
    "dataset_sp.info()"
   ]
  },
  {
   "cell_type": "code",
   "execution_count": 35,
   "metadata": {},
   "outputs": [
    {
     "data": {
      "text/html": [
       "<div>\n",
       "<style scoped>\n",
       "    .dataframe tbody tr th:only-of-type {\n",
       "        vertical-align: middle;\n",
       "    }\n",
       "\n",
       "    .dataframe tbody tr th {\n",
       "        vertical-align: top;\n",
       "    }\n",
       "\n",
       "    .dataframe thead th {\n",
       "        text-align: right;\n",
       "    }\n",
       "</style>\n",
       "<table border=\"1\" class=\"dataframe\">\n",
       "  <thead>\n",
       "    <tr style=\"text-align: right;\">\n",
       "      <th></th>\n",
       "      <th>count</th>\n",
       "      <th>unique</th>\n",
       "      <th>top</th>\n",
       "      <th>freq</th>\n",
       "      <th>mean</th>\n",
       "      <th>std</th>\n",
       "      <th>min</th>\n",
       "      <th>25%</th>\n",
       "      <th>50%</th>\n",
       "      <th>75%</th>\n",
       "      <th>max</th>\n",
       "    </tr>\n",
       "  </thead>\n",
       "  <tbody>\n",
       "    <tr>\n",
       "      <th>gender</th>\n",
       "      <td>1000</td>\n",
       "      <td>2</td>\n",
       "      <td>female</td>\n",
       "      <td>518</td>\n",
       "      <td>NaN</td>\n",
       "      <td>NaN</td>\n",
       "      <td>NaN</td>\n",
       "      <td>NaN</td>\n",
       "      <td>NaN</td>\n",
       "      <td>NaN</td>\n",
       "      <td>NaN</td>\n",
       "    </tr>\n",
       "    <tr>\n",
       "      <th>race/ethnicity</th>\n",
       "      <td>1000</td>\n",
       "      <td>5</td>\n",
       "      <td>group C</td>\n",
       "      <td>319</td>\n",
       "      <td>NaN</td>\n",
       "      <td>NaN</td>\n",
       "      <td>NaN</td>\n",
       "      <td>NaN</td>\n",
       "      <td>NaN</td>\n",
       "      <td>NaN</td>\n",
       "      <td>NaN</td>\n",
       "    </tr>\n",
       "    <tr>\n",
       "      <th>parental level of education</th>\n",
       "      <td>1000</td>\n",
       "      <td>6</td>\n",
       "      <td>some college</td>\n",
       "      <td>226</td>\n",
       "      <td>NaN</td>\n",
       "      <td>NaN</td>\n",
       "      <td>NaN</td>\n",
       "      <td>NaN</td>\n",
       "      <td>NaN</td>\n",
       "      <td>NaN</td>\n",
       "      <td>NaN</td>\n",
       "    </tr>\n",
       "    <tr>\n",
       "      <th>lunch</th>\n",
       "      <td>1000</td>\n",
       "      <td>2</td>\n",
       "      <td>standard</td>\n",
       "      <td>645</td>\n",
       "      <td>NaN</td>\n",
       "      <td>NaN</td>\n",
       "      <td>NaN</td>\n",
       "      <td>NaN</td>\n",
       "      <td>NaN</td>\n",
       "      <td>NaN</td>\n",
       "      <td>NaN</td>\n",
       "    </tr>\n",
       "    <tr>\n",
       "      <th>test preparation course</th>\n",
       "      <td>1000</td>\n",
       "      <td>2</td>\n",
       "      <td>none</td>\n",
       "      <td>642</td>\n",
       "      <td>NaN</td>\n",
       "      <td>NaN</td>\n",
       "      <td>NaN</td>\n",
       "      <td>NaN</td>\n",
       "      <td>NaN</td>\n",
       "      <td>NaN</td>\n",
       "      <td>NaN</td>\n",
       "    </tr>\n",
       "    <tr>\n",
       "      <th>math score</th>\n",
       "      <td>1000</td>\n",
       "      <td>NaN</td>\n",
       "      <td>NaN</td>\n",
       "      <td>NaN</td>\n",
       "      <td>66.089</td>\n",
       "      <td>15.1631</td>\n",
       "      <td>0</td>\n",
       "      <td>57</td>\n",
       "      <td>66</td>\n",
       "      <td>77</td>\n",
       "      <td>100</td>\n",
       "    </tr>\n",
       "    <tr>\n",
       "      <th>reading score</th>\n",
       "      <td>1000</td>\n",
       "      <td>NaN</td>\n",
       "      <td>NaN</td>\n",
       "      <td>NaN</td>\n",
       "      <td>69.169</td>\n",
       "      <td>14.6002</td>\n",
       "      <td>17</td>\n",
       "      <td>59</td>\n",
       "      <td>70</td>\n",
       "      <td>79</td>\n",
       "      <td>100</td>\n",
       "    </tr>\n",
       "    <tr>\n",
       "      <th>writing score</th>\n",
       "      <td>1000</td>\n",
       "      <td>NaN</td>\n",
       "      <td>NaN</td>\n",
       "      <td>NaN</td>\n",
       "      <td>68.054</td>\n",
       "      <td>15.1957</td>\n",
       "      <td>10</td>\n",
       "      <td>57.75</td>\n",
       "      <td>69</td>\n",
       "      <td>79</td>\n",
       "      <td>100</td>\n",
       "    </tr>\n",
       "  </tbody>\n",
       "</table>\n",
       "</div>"
      ],
      "text/plain": [
       "                            count unique           top freq    mean      std  \\\n",
       "gender                       1000      2        female  518     NaN      NaN   \n",
       "race/ethnicity               1000      5       group C  319     NaN      NaN   \n",
       "parental level of education  1000      6  some college  226     NaN      NaN   \n",
       "lunch                        1000      2      standard  645     NaN      NaN   \n",
       "test preparation course      1000      2          none  642     NaN      NaN   \n",
       "math score                   1000    NaN           NaN  NaN  66.089  15.1631   \n",
       "reading score                1000    NaN           NaN  NaN  69.169  14.6002   \n",
       "writing score                1000    NaN           NaN  NaN  68.054  15.1957   \n",
       "\n",
       "                             min    25%  50%  75%  max  \n",
       "gender                       NaN    NaN  NaN  NaN  NaN  \n",
       "race/ethnicity               NaN    NaN  NaN  NaN  NaN  \n",
       "parental level of education  NaN    NaN  NaN  NaN  NaN  \n",
       "lunch                        NaN    NaN  NaN  NaN  NaN  \n",
       "test preparation course      NaN    NaN  NaN  NaN  NaN  \n",
       "math score                     0     57   66   77  100  \n",
       "reading score                 17     59   70   79  100  \n",
       "writing score                 10  57.75   69   79  100  "
      ]
     },
     "execution_count": 35,
     "metadata": {},
     "output_type": "execute_result"
    }
   ],
   "source": [
    "dataset_sp.describe(include='all').transpose()"
   ]
  },
  {
   "cell_type": "code",
   "execution_count": 36,
   "metadata": {},
   "outputs": [],
   "source": [
    "dataset_sp['Exam Score'] = (dataset_sp['math score'] + dataset_sp['reading score'] +dataset_sp['writing score'])/3"
   ]
  },
  {
   "cell_type": "code",
   "execution_count": 37,
   "metadata": {},
   "outputs": [
    {
     "data": {
      "text/plain": [
       "<seaborn.axisgrid.PairGrid at 0x134349bedd8>"
      ]
     },
     "execution_count": 37,
     "metadata": {},
     "output_type": "execute_result"
    },
    {
     "data": {
      "image/png": "[encoded data removed]",
      "text/plain": [
       "<Figure size 790.5x720 with 20 Axes>"
      ]
     },
     "metadata": {
      "needs_background": "light"
     },
     "output_type": "display_data"
    }
   ],
   "source": [
    "sns.pairplot(data=dataset_sp,diag_kind='kde', hue='gender',kind='reg')"
   ]
  },
  {
   "cell_type": "code",
   "execution_count": 38,
   "metadata": {},
   "outputs": [
    {
     "data": {
      "text/plain": [
       "<matplotlib.axes._subplots.AxesSubplot at 0x13435496b38>"
      ]
     },
     "execution_count": 38,
     "metadata": {},
     "output_type": "execute_result"
    },
    {
     "data": {
      "image/png": "[encoded data removed]",
      "text/plain": [
       "<Figure size 432x288 with 2 Axes>"
      ]
     },
     "metadata": {
      "needs_background": "light"
     },
     "output_type": "display_data"
    }
   ],
   "source": [
    "sns.heatmap(dataset_sp.corr(), annot=True)"
   ]
  },
  {
   "cell_type": "code",
   "execution_count": 39,
   "metadata": {},
   "outputs": [
    {
     "data": {
      "text/html": [
       "<div>\n",
       "<style scoped>\n",
       "    .dataframe tbody tr th:only-of-type {\n",
       "        vertical-align: middle;\n",
       "    }\n",
       "\n",
       "    .dataframe tbody tr th {\n",
       "        vertical-align: top;\n",
       "    }\n",
       "\n",
       "    .dataframe thead th {\n",
       "        text-align: right;\n",
       "    }\n",
       "</style>\n",
       "<table border=\"1\" class=\"dataframe\">\n",
       "  <thead>\n",
       "    <tr style=\"text-align: right;\">\n",
       "      <th></th>\n",
       "      <th></th>\n",
       "      <th>math score</th>\n",
       "      <th>reading score</th>\n",
       "      <th>writing score</th>\n",
       "      <th>Exam Score</th>\n",
       "    </tr>\n",
       "    <tr>\n",
       "      <th>race/ethnicity</th>\n",
       "      <th>parental level of education</th>\n",
       "      <th></th>\n",
       "      <th></th>\n",
       "      <th></th>\n",
       "      <th></th>\n",
       "    </tr>\n",
       "  </thead>\n",
       "  <tbody>\n",
       "    <tr>\n",
       "      <th rowspan=\"6\" valign=\"top\">group A</th>\n",
       "      <th>associate's degree</th>\n",
       "      <td>61.000000</td>\n",
       "      <td>67.071429</td>\n",
       "      <td>63.571429</td>\n",
       "      <td>63.880952</td>\n",
       "    </tr>\n",
       "    <tr>\n",
       "      <th>bachelor's degree</th>\n",
       "      <td>67.166667</td>\n",
       "      <td>68.083333</td>\n",
       "      <td>68.333333</td>\n",
       "      <td>67.861111</td>\n",
       "    </tr>\n",
       "    <tr>\n",
       "      <th>high school</th>\n",
       "      <td>60.444444</td>\n",
       "      <td>62.888889</td>\n",
       "      <td>60.500000</td>\n",
       "      <td>61.277778</td>\n",
       "    </tr>\n",
       "    <tr>\n",
       "      <th>master's degree</th>\n",
       "      <td>57.666667</td>\n",
       "      <td>64.666667</td>\n",
       "      <td>67.666667</td>\n",
       "      <td>63.333333</td>\n",
       "    </tr>\n",
       "    <tr>\n",
       "      <th>some college</th>\n",
       "      <td>63.888889</td>\n",
       "      <td>65.777778</td>\n",
       "      <td>65.000000</td>\n",
       "      <td>64.888889</td>\n",
       "    </tr>\n",
       "    <tr>\n",
       "      <th>some high school</th>\n",
       "      <td>58.916667</td>\n",
       "      <td>62.083333</td>\n",
       "      <td>58.583333</td>\n",
       "      <td>59.861111</td>\n",
       "    </tr>\n",
       "    <tr>\n",
       "      <th rowspan=\"6\" valign=\"top\">group B</th>\n",
       "      <th>associate's degree</th>\n",
       "      <td>66.097561</td>\n",
       "      <td>69.585366</td>\n",
       "      <td>68.243902</td>\n",
       "      <td>67.975610</td>\n",
       "    </tr>\n",
       "    <tr>\n",
       "      <th>bachelor's degree</th>\n",
       "      <td>69.300000</td>\n",
       "      <td>72.950000</td>\n",
       "      <td>71.650000</td>\n",
       "      <td>71.300000</td>\n",
       "    </tr>\n",
       "    <tr>\n",
       "      <th>high school</th>\n",
       "      <td>59.791667</td>\n",
       "      <td>63.458333</td>\n",
       "      <td>61.250000</td>\n",
       "      <td>61.500000</td>\n",
       "    </tr>\n",
       "    <tr>\n",
       "      <th>master's degree</th>\n",
       "      <td>67.166667</td>\n",
       "      <td>80.166667</td>\n",
       "      <td>77.166667</td>\n",
       "      <td>74.833333</td>\n",
       "    </tr>\n",
       "    <tr>\n",
       "      <th>some college</th>\n",
       "      <td>63.189189</td>\n",
       "      <td>65.756757</td>\n",
       "      <td>64.189189</td>\n",
       "      <td>64.378378</td>\n",
       "    </tr>\n",
       "    <tr>\n",
       "      <th>some high school</th>\n",
       "      <td>61.815789</td>\n",
       "      <td>66.447368</td>\n",
       "      <td>64.605263</td>\n",
       "      <td>64.289474</td>\n",
       "    </tr>\n",
       "    <tr>\n",
       "      <th rowspan=\"6\" valign=\"top\">group C</th>\n",
       "      <th>associate's degree</th>\n",
       "      <td>66.730769</td>\n",
       "      <td>71.128205</td>\n",
       "      <td>70.269231</td>\n",
       "      <td>69.376068</td>\n",
       "    </tr>\n",
       "    <tr>\n",
       "      <th>bachelor's degree</th>\n",
       "      <td>68.150000</td>\n",
       "      <td>75.675000</td>\n",
       "      <td>75.900000</td>\n",
       "      <td>73.241667</td>\n",
       "    </tr>\n",
       "    <tr>\n",
       "      <th>high school</th>\n",
       "      <td>60.906250</td>\n",
       "      <td>64.421875</td>\n",
       "      <td>61.656250</td>\n",
       "      <td>62.328125</td>\n",
       "    </tr>\n",
       "    <tr>\n",
       "      <th>master's degree</th>\n",
       "      <td>67.052632</td>\n",
       "      <td>70.526316</td>\n",
       "      <td>69.526316</td>\n",
       "      <td>69.035088</td>\n",
       "    </tr>\n",
       "    <tr>\n",
       "      <th>some college</th>\n",
       "      <td>65.130435</td>\n",
       "      <td>69.420290</td>\n",
       "      <td>68.869565</td>\n",
       "      <td>67.806763</td>\n",
       "    </tr>\n",
       "    <tr>\n",
       "      <th>some high school</th>\n",
       "      <td>60.551020</td>\n",
       "      <td>65.632653</td>\n",
       "      <td>63.285714</td>\n",
       "      <td>63.156463</td>\n",
       "    </tr>\n",
       "    <tr>\n",
       "      <th rowspan=\"6\" valign=\"top\">group D</th>\n",
       "      <th>associate's degree</th>\n",
       "      <td>67.600000</td>\n",
       "      <td>70.540000</td>\n",
       "      <td>69.860000</td>\n",
       "      <td>69.333333</td>\n",
       "    </tr>\n",
       "    <tr>\n",
       "      <th>bachelor's degree</th>\n",
       "      <td>67.571429</td>\n",
       "      <td>70.142857</td>\n",
       "      <td>71.892857</td>\n",
       "      <td>69.869048</td>\n",
       "    </tr>\n",
       "    <tr>\n",
       "      <th>high school</th>\n",
       "      <td>62.863636</td>\n",
       "      <td>64.409091</td>\n",
       "      <td>63.159091</td>\n",
       "      <td>63.477273</td>\n",
       "    </tr>\n",
       "    <tr>\n",
       "      <th>master's degree</th>\n",
       "      <td>72.521739</td>\n",
       "      <td>77.173913</td>\n",
       "      <td>79.739130</td>\n",
       "      <td>76.478261</td>\n",
       "    </tr>\n",
       "    <tr>\n",
       "      <th>some college</th>\n",
       "      <td>68.731343</td>\n",
       "      <td>70.880597</td>\n",
       "      <td>71.701493</td>\n",
       "      <td>70.437811</td>\n",
       "    </tr>\n",
       "    <tr>\n",
       "      <th>some high school</th>\n",
       "      <td>66.760000</td>\n",
       "      <td>69.980000</td>\n",
       "      <td>69.100000</td>\n",
       "      <td>68.613333</td>\n",
       "    </tr>\n",
       "    <tr>\n",
       "      <th rowspan=\"6\" valign=\"top\">group E</th>\n",
       "      <th>associate's degree</th>\n",
       "      <td>74.897436</td>\n",
       "      <td>73.820513</td>\n",
       "      <td>73.205128</td>\n",
       "      <td>73.974359</td>\n",
       "    </tr>\n",
       "    <tr>\n",
       "      <th>bachelor's degree</th>\n",
       "      <td>76.555556</td>\n",
       "      <td>74.833333</td>\n",
       "      <td>75.388889</td>\n",
       "      <td>75.592593</td>\n",
       "    </tr>\n",
       "    <tr>\n",
       "      <th>high school</th>\n",
       "      <td>70.772727</td>\n",
       "      <td>70.318182</td>\n",
       "      <td>67.545455</td>\n",
       "      <td>69.545455</td>\n",
       "    </tr>\n",
       "    <tr>\n",
       "      <th>master's degree</th>\n",
       "      <td>74.625000</td>\n",
       "      <td>82.125000</td>\n",
       "      <td>80.500000</td>\n",
       "      <td>79.083333</td>\n",
       "    </tr>\n",
       "    <tr>\n",
       "      <th>some college</th>\n",
       "      <td>73.828571</td>\n",
       "      <td>72.628571</td>\n",
       "      <td>70.200000</td>\n",
       "      <td>72.219048</td>\n",
       "    </tr>\n",
       "    <tr>\n",
       "      <th>some high school</th>\n",
       "      <td>72.111111</td>\n",
       "      <td>69.555556</td>\n",
       "      <td>66.555556</td>\n",
       "      <td>69.407407</td>\n",
       "    </tr>\n",
       "  </tbody>\n",
       "</table>\n",
       "</div>"
      ],
      "text/plain": [
       "                                            math score  reading score  \\\n",
       "race/ethnicity parental level of education                              \n",
       "group A        associate's degree            61.000000      67.071429   \n",
       "               bachelor's degree             67.166667      68.083333   \n",
       "               high school                   60.444444      62.888889   \n",
       "               master's degree               57.666667      64.666667   \n",
       "               some college                  63.888889      65.777778   \n",
       "               some high school              58.916667      62.083333   \n",
       "group B        associate's degree            66.097561      69.585366   \n",
       "               bachelor's degree             69.300000      72.950000   \n",
       "               high school                   59.791667      63.458333   \n",
       "               master's degree               67.166667      80.166667   \n",
       "               some college                  63.189189      65.756757   \n",
       "               some high school              61.815789      66.447368   \n",
       "group C        associate's degree            66.730769      71.128205   \n",
       "               bachelor's degree             68.150000      75.675000   \n",
       "               high school                   60.906250      64.421875   \n",
       "               master's degree               67.052632      70.526316   \n",
       "               some college                  65.130435      69.420290   \n",
       "               some high school              60.551020      65.632653   \n",
       "group D        associate's degree            67.600000      70.540000   \n",
       "               bachelor's degree             67.571429      70.142857   \n",
       "               high school                   62.863636      64.409091   \n",
       "               master's degree               72.521739      77.173913   \n",
       "               some college                  68.731343      70.880597   \n",
       "               some high school              66.760000      69.980000   \n",
       "group E        associate's degree            74.897436      73.820513   \n",
       "               bachelor's degree             76.555556      74.833333   \n",
       "               high school                   70.772727      70.318182   \n",
       "               master's degree               74.625000      82.125000   \n",
       "               some college                  73.828571      72.628571   \n",
       "               some high school              72.111111      69.555556   \n",
       "\n",
       "                                            writing score  Exam Score  \n",
       "race/ethnicity parental level of education                             \n",
       "group A        associate's degree               63.571429   63.880952  \n",
       "               bachelor's degree                68.333333   67.861111  \n",
       "               high school                      60.500000   61.277778  \n",
       "               master's degree                  67.666667   63.333333  \n",
       "               some college                     65.000000   64.888889  \n",
       "               some high school                 58.583333   59.861111  \n",
       "group B        associate's degree               68.243902   67.975610  \n",
       "               bachelor's degree                71.650000   71.300000  \n",
       "               high school                      61.250000   61.500000  \n",
       "               master's degree                  77.166667   74.833333  \n",
       "               some college                     64.189189   64.378378  \n",
       "               some high school                 64.605263   64.289474  \n",
       "group C        associate's degree               70.269231   69.376068  \n",
       "               bachelor's degree                75.900000   73.241667  \n",
       "               high school                      61.656250   62.328125  \n",
       "               master's degree                  69.526316   69.035088  \n",
       "               some college                     68.869565   67.806763  \n",
       "               some high school                 63.285714   63.156463  \n",
       "group D        associate's degree               69.860000   69.333333  \n",
       "               bachelor's degree                71.892857   69.869048  \n",
       "               high school                      63.159091   63.477273  \n",
       "               master's degree                  79.739130   76.478261  \n",
       "               some college                     71.701493   70.437811  \n",
       "               some high school                 69.100000   68.613333  \n",
       "group E        associate's degree               73.205128   73.974359  \n",
       "               bachelor's degree                75.388889   75.592593  \n",
       "               high school                      67.545455   69.545455  \n",
       "               master's degree                  80.500000   79.083333  \n",
       "               some college                     70.200000   72.219048  \n",
       "               some high school                 66.555556   69.407407  "
      ]
     },
     "execution_count": 39,
     "metadata": {},
     "output_type": "execute_result"
    }
   ],
   "source": [
    "dataset_sp.groupby(['race/ethnicity','parental level of education']).mean()"
   ]
  },
  {
   "cell_type": "code",
   "execution_count": 44,
   "metadata": {},
   "outputs": [
    {
     "data": {
      "text/html": [
       "<div>\n",
       "<style scoped>\n",
       "    .dataframe tbody tr th:only-of-type {\n",
       "        vertical-align: middle;\n",
       "    }\n",
       "\n",
       "    .dataframe tbody tr th {\n",
       "        vertical-align: top;\n",
       "    }\n",
       "\n",
       "    .dataframe thead th {\n",
       "        text-align: right;\n",
       "    }\n",
       "</style>\n",
       "<table border=\"1\" class=\"dataframe\">\n",
       "  <thead>\n",
       "    <tr style=\"text-align: right;\">\n",
       "      <th></th>\n",
       "      <th>gender</th>\n",
       "      <th>math score</th>\n",
       "      <th>reading score</th>\n",
       "      <th>writing score</th>\n",
       "      <th>Exam Score</th>\n",
       "    </tr>\n",
       "  </thead>\n",
       "  <tbody>\n",
       "    <tr>\n",
       "      <th>0</th>\n",
       "      <td>female</td>\n",
       "      <td>63.633205</td>\n",
       "      <td>72.608108</td>\n",
       "      <td>72.467181</td>\n",
       "      <td>69.569498</td>\n",
       "    </tr>\n",
       "    <tr>\n",
       "      <th>1</th>\n",
       "      <td>male</td>\n",
       "      <td>68.728216</td>\n",
       "      <td>65.473029</td>\n",
       "      <td>63.311203</td>\n",
       "      <td>65.837483</td>\n",
       "    </tr>\n",
       "  </tbody>\n",
       "</table>\n",
       "</div>"
      ],
      "text/plain": [
       "   gender  math score  reading score  writing score  Exam Score\n",
       "0  female   63.633205      72.608108      72.467181   69.569498\n",
       "1    male   68.728216      65.473029      63.311203   65.837483"
      ]
     },
     "execution_count": 44,
     "metadata": {},
     "output_type": "execute_result"
    }
   ],
   "source": [
    "gender_score = dataset_sp.groupby(['gender']).mean().reset_index()\n",
    "gender_score"
   ]
  },
  {
   "cell_type": "code",
   "execution_count": 41,
   "metadata": {},
   "outputs": [
    {
     "data": {
      "text/plain": [
       "<seaborn.axisgrid.FacetGrid at 0x1343576bbe0>"
      ]
     },
     "execution_count": 41,
     "metadata": {},
     "output_type": "execute_result"
    },
    {
     "data": {
      "image/png": "[encoded data removed]",
      "text/plain": [
       "<Figure size 144x180 with 1 Axes>"
      ]
     },
     "metadata": {
      "needs_background": "light"
     },
     "output_type": "display_data"
    }
   ],
   "source": [
    "sns.catplot(x='gender', data=gender_score, kind=\"count\", height=2.5, aspect=.8)"
   ]
  },
  {
   "cell_type": "code",
   "execution_count": 10,
   "metadata": {},
   "outputs": [
    {
     "name": "stderr",
     "output_type": "stream",
     "text": [
      "C:\\ProgramData\\Anaconda3\\lib\\site-packages\\seaborn\\categorical.py:3666: UserWarning: The `factorplot` function has been renamed to `catplot`. The original name will be removed in a future release. Please update your code. Note that the default `kind` in `factorplot` (`'point'`) has changed `'strip'` in `catplot`.\n",
      "  warnings.warn(msg)\n"
     ]
    },
    {
     "data": {
      "text/plain": [
       "<seaborn.axisgrid.FacetGrid at 0x1343202dfd0>"
      ]
     },
     "execution_count": 10,
     "metadata": {},
     "output_type": "execute_result"
    },
    {
     "data": {
      "image/png": "[encoded data removed]",
      "text/plain": [
       "<Figure size 485x360 with 1 Axes>"
      ]
     },
     "metadata": {
      "needs_background": "light"
     },
     "output_type": "display_data"
    }
   ],
   "source": [
    "#Comparison between Test Prepration & Exam Score for different gender\n",
    "course_gender = dataset_sp.groupby(['gender','test preparation course']).mean().reset_index()\n",
    "sns.factorplot(x='gender', y='Exam Score', hue='test preparation course', data=course_gender, kind='bar')\n"
   ]
  },
  {
   "cell_type": "markdown",
   "metadata": {},
   "source": [
    "- Person who has completed the test prepration course has score well more than those who hasn't"
   ]
  },
  {
   "cell_type": "code",
   "execution_count": 11,
   "metadata": {},
   "outputs": [
    {
     "name": "stderr",
     "output_type": "stream",
     "text": [
      "C:\\ProgramData\\Anaconda3\\lib\\site-packages\\seaborn\\categorical.py:3666: UserWarning: The `factorplot` function has been renamed to `catplot`. The original name will be removed in a future release. Please update your code. Note that the default `kind` in `factorplot` (`'point'`) has changed `'strip'` in `catplot`.\n",
      "  warnings.warn(msg)\n"
     ]
    },
    {
     "data": {
      "text/plain": [
       "<seaborn.axisgrid.FacetGrid at 0x1343239a898>"
      ]
     },
     "execution_count": 11,
     "metadata": {},
     "output_type": "execute_result"
    },
    {
     "data": {
      "image/png": "[encoded data removed]",
      "text/plain": [
       "<Figure size 502.375x360 with 1 Axes>"
      ]
     },
     "metadata": {
      "needs_background": "light"
     },
     "output_type": "display_data"
    }
   ],
   "source": [
    "#Comparison between Parent Level of Education & Exam Score for different gender\n",
    "course_gender = dataset_sp.groupby(['gender','parental level of education']).mean().reset_index()\n",
    "sns.factorplot(x='gender', y='Exam Score', hue='parental level of education', data=course_gender, kind='bar')\n"
   ]
  },
  {
   "cell_type": "markdown",
   "metadata": {},
   "source": [
    "- Students whose Parents having bachelor's degree and Master's degree are scored well marks"
   ]
  },
  {
   "cell_type": "code",
   "execution_count": 12,
   "metadata": {},
   "outputs": [],
   "source": [
    "passing_marks = 40\n"
   ]
  },
  {
   "cell_type": "code",
   "execution_count": 13,
   "metadata": {},
   "outputs": [
    {
     "data": {
      "text/plain": [
       "P    970\n",
       "F     30\n",
       "Name: Overall Status, dtype: int64"
      ]
     },
     "execution_count": 13,
     "metadata": {},
     "output_type": "execute_result"
    }
   ],
   "source": [
    "dataset_sp['Overall Status'] = np.where(dataset_sp['Exam Score']<passing_marks,'F','P')\n",
    "dataset_sp['Overall Status'].value_counts()"
   ]
  },
  {
   "cell_type": "code",
   "execution_count": 14,
   "metadata": {},
   "outputs": [
    {
     "data": {
      "text/plain": [
       "<matplotlib.axes._subplots.AxesSubplot at 0x134334fc208>"
      ]
     },
     "execution_count": 14,
     "metadata": {},
     "output_type": "execute_result"
    },
    {
     "data": {
      "image/png": "[encoded data removed]",
      "text/plain": [
       "<Figure size 432x288 with 1 Axes>"
      ]
     },
     "metadata": {
      "needs_background": "light"
     },
     "output_type": "display_data"
    }
   ],
   "source": [
    "sns.countplot(dataset_sp['Overall Status'],hue=dataset_sp['gender'])"
   ]
  },
  {
   "cell_type": "code",
   "execution_count": 15,
   "metadata": {},
   "outputs": [],
   "source": [
    "def grades(status,total):\n",
    "    if status == 'F':\n",
    "        return 'F'\n",
    "    if total >=90:\n",
    "        return 'A+'\n",
    "    if total >=80:\n",
    "        return 'A'\n",
    "    if total >=70:\n",
    "        return 'B'\n",
    "    if total >=60:\n",
    "        return 'C'\n",
    "    if total >=50:\n",
    "        return 'D'\n",
    "    if total >=40:\n",
    "        return 'E'"
   ]
  },
  {
   "cell_type": "code",
   "execution_count": 16,
   "metadata": {},
   "outputs": [],
   "source": [
    "dataset_sp['Grade'] =dataset_sp.apply(lambda x : grades(x['Overall Status'] ,x['Exam Score']) ,axis =1)"
   ]
  },
  {
   "cell_type": "code",
   "execution_count": 17,
   "metadata": {},
   "outputs": [
    {
     "data": {
      "text/plain": [
       "B     261\n",
       "C     256\n",
       "D     182\n",
       "A     146\n",
       "E      73\n",
       "A+     52\n",
       "F      30\n",
       "Name: Grade, dtype: int64"
      ]
     },
     "execution_count": 17,
     "metadata": {},
     "output_type": "execute_result"
    }
   ],
   "source": [
    "dataset_sp['Grade'].value_counts()"
   ]
  },
  {
   "cell_type": "code",
   "execution_count": 18,
   "metadata": {},
   "outputs": [
    {
     "data": {
      "text/plain": [
       "<matplotlib.axes._subplots.AxesSubplot at 0x13433579208>"
      ]
     },
     "execution_count": 18,
     "metadata": {},
     "output_type": "execute_result"
    },
    {
     "data": {
      "image/png": "[encoded data removed]",
      "text/plain": [
       "<Figure size 432x288 with 1 Axes>"
      ]
     },
     "metadata": {
      "needs_background": "light"
     },
     "output_type": "display_data"
    }
   ],
   "source": [
    "sns.countplot(data = dataset_sp , x = 'Grade')"
   ]
  },
  {
   "cell_type": "code",
   "execution_count": 19,
   "metadata": {},
   "outputs": [],
   "source": [
    "dataset_sp.drop(['math score','reading score','writing score','Overall Status'],axis =1,inplace=True)"
   ]
  },
  {
   "cell_type": "code",
   "execution_count": 20,
   "metadata": {},
   "outputs": [],
   "source": [
    "X = dataset_sp.drop('Exam Score', axis=1)\n",
    "X = pd.get_dummies(X)\n",
    "\n",
    "Y = dataset_sp['Exam Score']"
   ]
  },
  {
   "cell_type": "code",
   "execution_count": 21,
   "metadata": {},
   "outputs": [],
   "source": [
    "x_train , y_train ,x_test ,y_test = train_test_split(X,Y,test_size = 0.3 ,random_state =201)"
   ]
  },
  {
   "cell_type": "code",
   "execution_count": 22,
   "metadata": {},
   "outputs": [
    {
     "name": "stdout",
     "output_type": "stream",
     "text": [
      "Mean Square Error:  9.50389105903\n",
      "Coefficient  [  2.46765498e+14   2.46765498e+14   2.96871328e+13   2.96871328e+13\n",
      "   2.96871328e+13   2.96871328e+13   2.96871328e+13  -2.44815564e+13\n",
      "  -2.44815564e+13  -2.44815564e+13  -2.44815564e+13  -2.44815564e+13\n",
      "  -2.44815564e+13  -1.07417714e+13  -1.07417714e+13   4.87299011e+13\n",
      "   4.87299011e+13  -2.59029670e+13  -2.59029670e+13  -2.59029670e+13\n",
      "  -2.59029670e+13  -2.59029670e+13  -2.59029670e+13  -2.59029670e+13]\n",
      "Intercept  -2.64056236724e+14\n"
     ]
    }
   ],
   "source": [
    "lr = LinearRegression()\n",
    "lr.fit(x_train,x_test)\n",
    "predict = lr.predict(y_train)\n",
    "mse = mean_squared_error(y_test ,predict)\n",
    "print(\"Mean Square Error: \",mse)\n",
    "print(\"Coefficient \",lr.coef_)\n",
    "print(\"Intercept \",lr.intercept_)"
   ]
  },
  {
   "cell_type": "code",
   "execution_count": 23,
   "metadata": {},
   "outputs": [
    {
     "name": "stdout",
     "output_type": "stream",
     "text": [
      "RMSE Score:  3.08283814999\n",
      "R-Squared : 0.952334274482\n"
     ]
    }
   ],
   "source": [
    "rmse = np.sqrt(mse)\n",
    "print(\"RMSE Score: \", rmse)\n",
    "\n",
    "R2=metrics.r2_score(y_test, predict)\n",
    "print(\"R-Squared :\", R2)"
   ]
  },
  {
   "cell_type": "code",
   "execution_count": 24,
   "metadata": {},
   "outputs": [
    {
     "data": {
      "text/plain": [
       "array([[ 1.        ,  0.97607327],\n",
       "       [ 0.97607327,  1.        ]])"
      ]
     },
     "execution_count": 24,
     "metadata": {},
     "output_type": "execute_result"
    }
   ],
   "source": [
    "np.corrcoef(y_test,predict)"
   ]
  },
  {
   "cell_type": "code",
   "execution_count": null,
   "metadata": {},
   "outputs": [],
   "source": []
  },
  {
   "cell_type": "code",
   "execution_count": null,
   "metadata": {},
   "outputs": [],
   "source": []
  },
  {
   "cell_type": "code",
   "execution_count": null,
   "metadata": {},
   "outputs": [],
   "source": []
  },
  {
   "cell_type": "code",
   "execution_count": null,
   "metadata": {},
   "outputs": [],
   "source": []
  },
  {
   "cell_type": "code",
   "execution_count": null,
   "metadata": {},
   "outputs": [],
   "source": []
  },
  {
   "cell_type": "code",
   "execution_count": null,
   "metadata": {},
   "outputs": [],
   "source": []
  }
 ],
 "metadata": {
  "kernelspec": {
   "display_name": "Python 3",
   "language": "python",
   "name": "python3"
  },
  "language_info": {
   "codemirror_mode": {
    "name": "ipython",
    "version": 3
   },
   "file_extension": ".py",
   "mimetype": "text/x-python",
   "name": "python",
   "nbconvert_exporter": "python",
   "pygments_lexer": "ipython3",
   "version": "3.7.1"
  }
 },
 "nbformat": 4,
 "nbformat_minor": 2
}
